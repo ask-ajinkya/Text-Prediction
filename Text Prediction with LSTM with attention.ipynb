{
  "nbformat": 4,
  "nbformat_minor": 0,
  "metadata": {
    "colab": {
      "name": "text_pred.ipynb",
      "provenance": [],
      "collapsed_sections": []
    },
    "kernelspec": {
      "name": "python3",
      "display_name": "Python 3"
    },
    "accelerator": "GPU"
  },
  "cells": [
    {
      "cell_type": "markdown",
      "metadata": {
        "id": "4Cnh2WgOBgjj",
        "colab_type": "text"
      },
      "source": [
        "word based text generation using LSTM model\n",
        "\n",
        "the training texts are samples from the following texts --\n",
        "\n",
        "https://www.tibethouse.jp/about/buddhism/text/pdfs/Bodhisattvas_way_English.pdf http://promienie.net/images/dharma/books/shantideva_way-of-bodhisattva.pdf"
      ]
    },
    {
      "cell_type": "code",
      "metadata": {
        "id": "lBPEaZfuVNdW",
        "colab_type": "code",
        "colab": {
          "base_uri": "https://localhost:8080/",
          "height": 33
        },
        "outputId": "c2e8374e-4ff2-49ca-a5c8-4afeba112956"
      },
      "source": [
        "from google.colab import drive\n",
        "drive.mount('/content/drive/')"
      ],
      "execution_count": null,
      "outputs": [
        {
          "output_type": "stream",
          "text": [
            "Drive already mounted at /content/drive/; to attempt to forcibly remount, call drive.mount(\"/content/drive/\", force_remount=True).\n"
          ],
          "name": "stdout"
        }
      ]
    },
    {
      "cell_type": "code",
      "metadata": {
        "id": "BNFZb6a5DI6u",
        "colab_type": "code",
        "colab": {
          "base_uri": "https://localhost:8080/",
          "height": 33
        },
        "outputId": "1ae50b44-d50d-42bc-a912-e3fd2088d3a8"
      },
      "source": [
        "drive.mount(\"/content/drive/\", force_remount=True)"
      ],
      "execution_count": null,
      "outputs": [
        {
          "output_type": "stream",
          "text": [
            "Mounted at /content/drive/\n"
          ],
          "name": "stdout"
        }
      ]
    },
    {
      "cell_type": "code",
      "metadata": {
        "id": "5qa-FyzmdHW0",
        "colab_type": "code",
        "colab": {}
      },
      "source": [
        "path = \"/content/drive/My Drive/test.txt\""
      ],
      "execution_count": null,
      "outputs": []
    },
    {
      "cell_type": "code",
      "metadata": {
        "id": "cg1s6b5HZh5Z",
        "colab_type": "code",
        "colab": {}
      },
      "source": [
        "#importing all required libraries \n",
        "import tensorflow as tf\n",
        "from tensorflow.keras.preprocessing.sequence import pad_sequences\n",
        "from tensorflow.keras.preprocessing.text import Tokenizer\n",
        "from tensorflow.keras.optimizers import Adam\n",
        "import numpy as np "
      ],
      "execution_count": null,
      "outputs": []
    },
    {
      "cell_type": "code",
      "metadata": {
        "id": "l6EaYvIFeiXr",
        "colab_type": "code",
        "colab": {}
      },
      "source": [
        "#reading the file\n",
        "with open(path, 'r' , encoding = \"utf-8\") as file:  \n",
        "  filer = file.read()"
      ],
      "execution_count": null,
      "outputs": []
    },
    {
      "cell_type": "code",
      "metadata": {
        "id": "TSjxD8w6Zs0-",
        "colab_type": "code",
        "colab": {}
      },
      "source": [
        "import re\n",
        "filer = re.sub(\"\\d+\", \"\", filer) #to remove the digits/numbers from text"
      ],
      "execution_count": null,
      "outputs": []
    },
    {
      "cell_type": "code",
      "metadata": {
        "id": "TWZll5hmCWD1",
        "colab_type": "code",
        "colab": {
          "base_uri": "https://localhost:8080/",
          "height": 35
        },
        "outputId": "752413f9-5013-424c-e443-1ff4449bf73a"
      },
      "source": [
        "filer[0:100]"
      ],
      "execution_count": null,
      "outputs": [
        {
          "output_type": "execute_result",
          "data": {
            "application/vnd.google.colaboratory.intrinsic+json": {
              "type": "string"
            },
            "text/plain": [
              "'. All that we are is the result of what we have thought: it is founded on our thoughts, it is made u'"
            ]
          },
          "metadata": {
            "tags": []
          },
          "execution_count": 37
        }
      ]
    },
    {
      "cell_type": "markdown",
      "metadata": {
        "id": "1Ns8fSxVBmwQ",
        "colab_type": "text"
      },
      "source": [
        "creating tokens and word , value dict of vocabulory "
      ]
    },
    {
      "cell_type": "code",
      "metadata": {
        "id": "bMCG-ZQzd2rQ",
        "colab_type": "code",
        "colab": {
          "base_uri": "https://localhost:8080/",
          "height": 70
        },
        "outputId": "40cb5000-5e6c-4be6-8356-992dd329d360"
      },
      "source": [
        "tokenizer = Tokenizer() #creates a instance of Tokenizer\n",
        "\n",
        "corpus = filer.lower().split(\"\\n\") # creates a list of strings seperated by \"\\n.\"\n",
        "\n",
        "tokenizer.fit_on_texts(corpus) #tkenizer creates tokens on the data in corpus\n",
        "word_index = tokenizer.word_index # return dict of key as words and value being their the rank of occurence  \n",
        "total_words = len(tokenizer.word_index) +1\n",
        "\n",
        "print(word_index)\n",
        "print(total_words)"
      ],
      "execution_count": null,
      "outputs": [
        {
          "output_type": "stream",
          "text": [
            "{'the': 1, 'of': 2, 'and': 3, 'i': 4, 'to': 5, 'is': 6, 'a': 7, 'in': 8, 'not': 9, 'who': 10, 'for': 11, 'be': 12, 'all': 13, 'this': 14, 'by': 15, 'it': 16, 'my': 17, 'that': 18, 'with': 19, 'will': 20, 'if': 21, 'he': 22, 'as': 23, 'are': 24, 'should': 25, 'have': 26, 'from': 27, 'do': 28, 'they': 29, 'but': 30, 'no': 31, 'mind': 32, 'shall': 33, 'me': 34, 'what': 35, 'like': 36, 'when': 37, 'his': 38, 'man': 39, 'those': 40, 'has': 41, 'others': 42, 'their': 43, 'even': 44, 'there': 45, 'so': 46, 'an': 47, 'him': 48, 'then': 49, 'body': 50, 'or': 51, 'beings': 52, 'world': 53, 'myself': 54, 'evil': 55, 'why': 56, 'such': 57, 'them': 58, 'one': 59, 'good': 60, 'may': 61, 'am': 62, 'way': 63, 'on': 64, 'having': 65, 'you': 66, 'these': 67, 'life': 68, 'at': 69, 'being': 70, 'other': 71, 'does': 72, 'can': 73, 'let': 74, 'which': 75, 'great': 76, 'pain': 77, 'well': 78, 'through': 79, 'wise': 80, 'people': 81, 'happiness': 82, 'never': 83, 'therefore': 84, 'upon': 85, 'now': 86, 'free': 87, 'wish': 88, 'just': 89, 'because': 90, 'without': 91, 'suffering': 92, 'own': 93, 'become': 94, 'would': 95, 'always': 96, 'how': 97, 'joy': 98, 'fear': 99, 'cause': 100, 'only': 101, 'happy': 102, 'long': 103, 'indeed': 104, 'death': 105, 'away': 106, 'give': 107, 'harm': 108, 'its': 109, 'again': 110, 'brahmana': 111, 'come': 112, 'law': 113, 'many': 114, 'things': 115, 'been': 116, 'benefit': 117, 'up': 118, 'hell': 119, 'since': 120, 'himself': 121, 'about': 122, 'thus': 123, 'into': 124, 'done': 125, 'find': 126, 'sake': 127, 'buddhas': 128, 'nor': 129, 'likewise': 130, 'alone': 131, 'whatever': 132, 'virtue': 133, 'angry': 134, 'call': 135, 'any': 136, 'men': 137, 'whose': 138, 'disturbing': 139, 'time': 140, 'although': 141, 'misery': 142, 'conceptions': 143, 'thought': 144, 'see': 145, 'after': 146, 'enemy': 147, 'thoughts': 148, 'very': 149, 'day': 150, 'awakening': 151, 'nothing': 152, 'state': 153, 'pleasure': 154, 'go': 155, 'down': 156, 'every': 157, 'need': 158, 'lives': 159, 'both': 160, 'make': 161, 'order': 162, 'better': 163, 'hatred': 164, 'than': 165, 'buddha': 166, 'made': 167, 'out': 168, 'self': 169, 'ever': 170, 'overcome': 171, 'refuge': 172, 'existence': 173, 'dharma': 174, 'deeds': 175, 'much': 176, 'friends': 177, 'some': 178, 'qualities': 179, 'actions': 180, 'must': 181, 'more': 182, 'also': 183, 'words': 184, 'live': 185, 'look': 186, 'though': 187, 'living': 188, 'knowledge': 189, 'bhikshu': 190, 'before': 191, 'themselves': 192, 'could': 193, 'merit': 194, 'whom': 195, 'ʺ': 196, 'desires': 197, 'nirvana': 198, 'gods': 199, 'while': 200, 'little': 201, 'thou': 202, 'end': 203, 'path': 204, 'praise': 205, 'place': 206, 'fool': 207, 'desire': 208, 'whether': 209, 'your': 210, 'bodies': 211, 'among': 212, 'difficult': 213, 'knows': 214, 'forth': 215, 'where': 216, 'same': 217, 'say': 218, 'anger': 219, 'within': 220, 'realms': 221, 'delight': 222, 'dwell': 223, 'take': 224, 'night': 225, 'wealth': 226, 'strive': 227, 'leave': 228, 'cut': 229, 'towards': 230, 'awakened': 231, 'o': 232, 'arise': 233, 'know': 234, 'follow': 235, 'hold': 236, 'lord': 237, 'called': 238, 'forest': 239, 'birth': 240, 'precious': 241, 'was': 242, 'given': 243, 'bodhisattva': 244, 'said': 245, 'nature': 246, 'sentient': 247, 'best': 248, 'fire': 249, 'off': 250, 'grief': 251, 'turn': 252, 'thirst': 253, 'were': 254, 'use': 255, 'bodhichitta': 256, 'food': 257, 'true': 258, 'increase': 259, 'lust': 260, 'perfect': 261, 'bring': 262, 'think': 263, 'act': 264, 'everything': 265, 'attachment': 266, 'strength': 267, 'thy': 268, 'something': 269, 'due': 270, 'supreme': 271, 'truth': 272, 'guard': 273, 'earth': 274, 'comes': 275, 'fruit': 276, 'anything': 277, 'suffer': 278, 'pleasant': 279, 'human': 280, 'remain': 281, 'protect': 282, 'able': 283, 'thinking': 284, 'mighty': 285, 'unable': 286, 'we': 287, 'love': 288, 'here': 289, 'delights': 290, 'still': 291, 'heart': 292, 'full': 293, 'enemies': 294, 'deed': 295, 'another': 296, 'neither': 297, 'few': 298, 'hundred': 299, 'times': 300, 'hard': 301, 'source': 302, 'offer': 303, 'doing': 304, 'someone': 305, 'virtues': 306, 'sees': 307, 'work': 308, 'virtuous': 309, 'rise': 310, 'us': 311, 'equal': 312, 'found': 313, 'water': 314, 'speak': 315, 'three': 316, 'patience': 317, 'mine': 318, 'intention': 319, 'wholesome': 320, 'hence': 321, 'experience': 322, 'cyclic': 323, 'unclean': 324, 'merely': 325, 'protectors': 326, 'too': 327, 'lower': 328, 'respect': 329, 'cease': 330, 'wishes': 331, 'understood': 332, 'restraint': 333, 'control': 334, 'cannot': 335, 'king': 336, 'becomes': 337, 'moment': 338, 'gain': 339, 'states': 340, 'destroyed': 341, 'flesh': 342, 'bliss': 343, 'evils': 344, 'bondage': 345, 'sufferings': 346, 'practise': 347, 'creatures': 348, 'elephant': 349, 'destroy': 350, 'ones': 351, 'accept': 352, 'until': 353, 'surely': 354, 'foes': 355, 'caused': 356, 'whenever': 357, 'our': 358, 'pleasures': 359, 'mara': 360, 'put': 361, 'passion': 362, 'next': 363, 'small': 364, 'highest': 365, 'fall': 366, 'flower': 367, 'flowers': 368, 'born': 369, 'against': 370, 'wood': 371, 'sons': 372, 'left': 373, 'bad': 374, 'freed': 375, 'quiet': 376, 'destruction': 377, 'seen': 378, 'trees': 379, 'unpleasant': 380, 'attached': 381, 'eyes': 382, 'compassion': 383, 'wishing': 384, 'completely': 385, 'practice': 386, 'ʺi': 387, 'tree': 388, 'strong': 389, 'wisdom': 390, 'jewel': 391, 'behind': 392, 'rest': 393, 'years': 394, 'first': 395, 'sleep': 396, 'unhappy': 397, 'return': 398, 'faults': 399, 'action': 400, 'between': 401, 'brief': 402, 'similar': 403, 'space': 404, 'future': 405, 'want': 406, 'material': 407, 'acts': 408, '—but': 409, 'once': 410, 'weak': 411, 'sin': 412, 'going': 413, 'over': 414, 'brings': 415, 'finds': 416, 'lotus': 417, 'sweet': 418, 'leads': 419, 'means': 420, 'pass': 421, 'freedom': 422, 'speech': 423, 'thousand': 424, 'conquerors': 425, 'constantly': 426, 'four': 427, 'power': 428, 'worldly': 429, 'enter': 430, 'fault': 431, 'effort': 432, 'set': 433, 'enjoy': 434, 'giving': 435, 'committed': 436, 'aeons': 437, 'occur': 438, 'itself': 439, 'bodhisattvas': 440, 'compassionate': 441, 'minds': 442, 'around': 443, 'childish': 444, 'pure': 445, 'conquered': 446, 'right': 447, 'sins': 448, 'firmly': 449, 'greatest': 450, 'yet': 451, 'covered': 452, 'bright': 453, 'blame': 454, 'light': 455, 'understand': 456, 'seeing': 457, 'kill': 458, 'reached': 459, 'faith': 460, 'gained': 461, 'past': 462, 'clouds': 463, 'sacred': 464, 'clear': 465, '—': 466, 'ought': 467, 'gives': 468, 'forsake': 469, 'form': 470, \"'\": 471, 'taint': 472, 'kind': 473, 'joyful': 474, 'please': 475, 'hands': 476, 'today': 477, 'follows': 478, 'old': 479, 'wind': 480, 'worthy': 481, 'suffers': 482, 'earnestness': 483, 'die': 484, 'rejoice': 485, 'attain': 486, 'person': 487, 'vanity': 488, 'leaving': 489, 'back': 490, 'ground': 491, 'greater': 492, 'sage': 493, 'bear': 494, 'fruits': 495, 'sorrow': 496, 'head': 497, 'lead': 498, 'run': 499, 'touch': 500, 'meditation': 501, 'seek': 502, 'else': 503, 'manner': 504, 'root': 505, 'tathagatas': 506, 'quickly': 507, 'two': 508, 'thing': 509, 'noble': 510, 'force': 511, 'instant': 512, 'mention': 513, 'boundless': 514, 'instead': 515, 'directions': 516, 'harms': 517, 'behave': 518, 'self‐importance': 519, 'causes': 520, 'self‐confidence': 521, 'speaks': 522, 'certainly': 523, 'house': 524, 'fools': 525, 'learned': 526, 'looks': 527, 'awake': 528, 'tamed': 529, 'far': 530, 'mother': 531, 'shown': 532, 'distracted': 533, 'cast': 534, 'tormented': 535, 'tongue': 536, 'reward': 537, 'honour': 538, 'happily': 539, 'word': 540, 'battle': 541, 'under': 542, 'attained': 543, 'commit': 544, 'mountains': 545, 'art': 546, 'loss': 547, 'sickness': 548, 'blood': 549, 'discipline': 550, 'oneself': 551, 'friend': 552, 'thyself': 553, 'moon': 554, 'obtain': 555, 'buddhahood': 556, 'gone': 557, 'passions': 558, 'praised': 559, 'care': 560, 'wrong': 561, 'yourself': 562, 'taught': 563, 'lack': 564, 'meaning': 565, 'frightened': 566, 'forbidden': 567, 'wandering': 568, 'conditions': 569, 'gift': 570, 'damaged': 571, 'mouth': 572, 'might': 573, 'unbearable': 574, 'awaken': 575, 'dispel': 576, 'whoever': 577, 'regard': 578, 'previous': 579, 'objects': 580, 'pleasing': 581, 'ignorance': 582, 'mental': 583, 'advice': 584, 'object': 585, 'guardians': 586, 'mindfulness': 587, 'generosity': 588, 'alertness': 589, 'furthermore': 590, 'fail': 591, 'result': 592, 'looking': 593, 'tempter': 594, 'thoughtlessness': 595, 'elect': 596, 'steady': 597, 'mendicant': 598, 'fetters': 599, 'home': 600, 'thrown': 601, 'wherever': 602, 'peace': 603, 'lie': 604, 'father': 605, 'scent': 606, 'beautiful': 607, 'possess': 608, 'grow': 609, 'truly': 610, 'foolish': 611, 'eat': 612, 'false': 613, 'pride': 614, 'road': 615, 'shore': 616, 'however': 617, 'birds': 618, 'envy': 619, 'delightful': 620, 'homage': 621, 'unto': 622, 'poison': 623, 'hand': 624, 'thee': 625, 'together': 626, 'treasure': 627, 'attainment': 628, 'holy': 629, 'disciples': 630, 'host': 631, 'goes': 632, 'drink': 633, 'either': 634, 'samana': 635, 'above': 636, 'forms': 637, 'rid': 638, 'women': 639, 'children': 640, 'killed': 641, 'common': 642, 'conditioned': 643, 'endure': 644, 'reach': 645, 'cry': 646, 'accomplish': 647, 'sorrows': 648, 'excellence': 649, 'medicine': 650, 'jewels': 651, 'exist': 652, 'gems': 653, 'various': 654, 'behold': 655, 'disturbed': 656, 'spiritual': 657, 'remains': 658, 'relatives': 659, 'physical': 660, 'protection': 661, 'elsewhere': 662, 'ocean': 663, 'anyone': 664, 'fit': 665, 'rebirth': 666, 'vast': 667, 'produced': 668, 'purpose': 669, 'enough': 670, 'piece': 671, 'involved': 672, 'working': 673, 'aspiration': 674, 'brought': 675, 'ʺiʺ': 676, 'heirs': 677, 'i’ll': 678, 'rain': 679, 'thoughtless': 680, 'share': 681, 'caring': 682, 'according': 683, 'flood': 684, 'did': 685, 'dry': 686, 'making': 687, 'firm': 688, 'disciple': 689, 'learnt': 690, 'carries': 691, 'enlightened': 692, 'keep': 693, 'face': 694, 'grass': 695, 'destroys': 696, 'low': 697, 'dark': 698, 'ordinary': 699, 'subdued': 700, 'sense': 701, 'conquer': 702, 'whole': 703, 'beginning': 704, 'drops': 705, 'wound': 706, 'dust': 707, 'sky': 708, 'painful': 709, 'drive': 710, 'houses': 711, 'restrained': 712, 'grows': 713, 'perish': 714, 'each': 715, 'beneficial': 716, 'doctrine': 717, 'worlds': 718, 'step': 719, 'eating': 720, 'short': 721, 'driven': 722, 'safe': 723, 'pains': 724, 'greed': 725, 'stream': 726, 'holding': 727, 'wilt': 728, 'near': 729, 'injure': 730, 'iron': 731, 'conduct': 732, 'ways': 733, 'patient': 734, 'thereby': 735, 'help': 736, 'seized': 737, 'gotama': 738, 'bow': 739, 'arises': 740, 'scented': 741, 'last': 742, 'boat': 743, 'poor': 744, 'conqueror': 745, 'explained': 746, 'acquaintance': 747, 'limitless': 748, 'greatly': 749, 'perfectly': 750, 'lesser': 751, 'single': 752, 'attitude': 753, 'confusion': 754, 'oceans': 755, 'destitute': 756, 'beseech': 757, 'present': 758, 'prostrate': 759, 'search': 760, 'dwelling': 761, 'miseries': 762, 'meaningless': 763, 'desiring': 764, 'slave': 765, 'chance': 766, 'confused': 767, 'deepest': 768, 'craving': 769, 'patiently': 770, 'slight': 771, 'definitely': 772, 'livelihood': 773, 'burned': 774, 'reason': 775, 'precepts': 776, 'guarding': 777, 'hurt': 778, 'decline': 779, 'merits': 780, 'proceed': 781, 'certain': 782, 'unwholesome': 783, 'open': 784, 'mere': 785, 'fulfilled': 786, 'devoid': 787, 'injured': 788, 'get': 789, 'enthusiasm': 790, 'abide': 791, 'profit': 792, 'saṃsāra': 793, 'senses': 794, 'controlled': 795, 'untruth': 796, 'break': 797, 'doer': 798, 'purity': 799, 'large': 800, 'forsaken': 801, 'earnest': 802, 'enjoyment': 803, 'stand': 804, 'makes': 805, 'arrow': 806, 'fish': 807, 'taken': 808, 'escape': 809, 'perceive': 810, 'guarded': 811, 'bonds': 812, 'weapon': 813, 'yama': 814, 'kinds': 815, 'heap': 816, 'odour': 817, 'walk': 818, 'journey': 819, 'taste': 820, 'intelligent': 821, 'reputation': 822, 'worship': 823, 'lake': 824, 'son': 825, 'broken': 826, 'duty': 827, 'land': 828, 'forests': 829, 'offering': 830, 'unrestrained': 831, 'spoken': 832, 'hast': 833, 'age': 834, 'injury': 835, 'bones': 836, 'proper': 837, 'bears': 838, 'impurity': 839, 'sun': 840, 'led': 841, 'gold': 842, 'fully': 843, 'takes': 844, 'hate': 845, 'greedy': 846, 'losing': 847, 'throw': 848, 'gifts': 849, 'solitude': 850, 'sight': 851, 'real': 852, 'affection': 853, 'intelligence': 854, 'bewildered': 855, 'works': 856, 'sages': 857, 'messengers': 858, 'impurities': 859, 'hero': 860, 'wife': 861, 'e': 862, 'had': 863, 'created': 864, 'danger': 865, 'causing': 866, 'bed': 867, 'practised': 868, 'bound': 869, 'thoroughly': 870, 'overcomes': 871, 'striving': 872, 'fields': 873, 'controls': 874, 'calm': 875, 'natural': 876, 'five': 877, 'meditate': 878, 'examine': 879, 'point': 880, 'feeble': 881, 'acquaint': 882, 'fortune': 883, 'opportunity': 884, 'extremely': 885, 'guide': 886, 'swiftly': 887, 'actually': 888, 'infinite': 889, 'dispels': 890, 'naturally': 891, 'ornaments': 892, 'offerings': 893, 'fragrant': 894, 'million': 895, 'presence': 896, 'masters': 897, 'folded': 898, 'sick': 899, 'passed': 900, 'experienced': 901, 'deal': 902, 'transient': 903, 'previously': 904, 'countless': 905, 'creature': 906, 'promise': 907, 'withdraw': 908, 'examined': 909, 'beyond': 910, 'welfare': 911, 'continue': 912, 'solely': 913, 'fires': 914, 'heat': 915, 'rather': 916, 'reduced': 917, 'weapons': 918, 'possibly': 919, 'develop': 920, 'aware': 921, 'undertake': 922, 'task': 923, 'fame': 924, 'motivated': 925, 'laziness': 926, 'vultures': 927, 'separate': 928, 'feel': 929, 'liberation': 930, 'produce': 931, 'dependence': 932, 'quality': 933, 'excrement': 934, 'supports': 935, 'developed': 936, 'strange': 937, 'aside': 938, 'different': 939, 'skeletons': 940, 'theirs': 941, 'filth': 942, 'high': 943, 'i’m': 944, 'idle': 945, 'faithful': 946, 'yellow': 947, 'cleansed': 948, 'grounded': 949, 'ill': 950, 'reflecting': 951, 'mourns': 952, 'thinks': 953, 'recite': 954, 'clearly': 955, 'island': 956, 'serene': 957, 'lordship': 958, 'burning': 959, 'travels': 960, 'watchful': 961, 'attack': 962, 'understanding': 963, 'directed': 964, 'sleeping': 965, 'fine': 966, 'mortal': 967, 'perfume': 968, 'darkness': 969, 'belong': 970, 'month': 971, 'worth': 972, 'milk': 973, 'known': 974, 'bend': 975, 'amidst': 976, 'touched': 977, 'elements': 978, 'sides': 979, 'collected': 980, 'abode': 981, 'perceived': 982, 'air': 983, 'senseless': 984, 'sacrifice': 985, 'pay': 986, 'viz': 987, 'immortal': 988, 'ripened': 989, 'falling': 990, 'filled': 991, 'heaven': 992, 'punishment': 993, 'seeking': 994, 'burn': 995, 'hair': 996, 'purify': 997, 'horse': 998, 'ye': 999, 'behaviour': 1000, 'kings': 1001, 'course': 1002, 'during': 1003, 'creeper': 1004, 'ariya': 1005, 'attentive': 1006, 'omniscient': 1007, 'conception': 1008, 'teaching': 1009, 'sit': 1010, 'everywhere': 1011, 'hunger': 1012, 'health': 1013, 'trust': 1014, 'sweetness': 1015, 'walks': 1016, 'company': 1017, 'receive': 1018, 'name': 1019, 'holds': 1020, 'decay': 1021, 'simply': 1022, 'muni': 1023, 'taking': 1024, 'arms': 1025, 'ashamed': 1026, 'embracing': 1027, 'pleased': 1028, 'draw': 1029, 'runs': 1030, 'doubts': 1031, 'received': 1032, 'exceeds': 1033, 'weeds': 1034, 'mankind': 1035, 'bestowed': 1036, 'eye': 1037, 'feet': 1038, 'slothful': 1039, 'empty': 1040, 'protected': 1041, 'unshackled': 1042, 'family': 1043, 'clean': 1044, 'dirty': 1045, 'extinct': 1046, 'cold': 1047, 'appears': 1048, 'except': 1049, 'joys': 1050, 'entrusting': 1051, 'afraid': 1052, 'aspiring': 1053, 'ensue': 1054, 'endowed': 1055, 'realise': 1056, 'eternally': 1057, 'fulfilling': 1058, 'places': 1059, 'incense': 1060, 'adorned': 1061, 'fears': 1062, 'samantabhadra': 1063, 'foods': 1064, 'addition': 1065, 'descend': 1066, 'gentle': 1067, 'universe': 1068, 'essence': 1069, 'throughout': 1070, 'mistakes': 1071, 'declare': 1072, 'harmful': 1073, 'wrongs': 1074, 'openly': 1075, 'fleeting': 1076, 'dream': 1077, 'memory': 1078, 'afford': 1079, 'terror': 1080, 'tremendous': 1081, 'stricken': 1082, 'frightful': 1083, 'scorn': 1084, 'careful': 1085, 'grant': 1086, 'relax': 1087, 'ʺhow': 1088, 'embodied': 1089, 'healed': 1090, 'benefitting': 1091, 'bridge': 1092, 'vase': 1093, 'practices': 1094, 'following': 1095, 'exert': 1096, 'case': 1097, 'downfalls': 1098, 'happen': 1099, 'destroying': 1100, 'won': 1101, 'win': 1102, 'realm': 1103, 'hells': 1104, 'incapable': 1105, 'constant': 1106, 'obsession': 1107, 'perfection': 1108, 'restrain': 1109, 'wander': 1110, 'defiled': 1111, 'fortunate': 1112, 'vision': 1113, 'situations': 1114, 'acting': 1115, 'start': 1116, 'immediately': 1117, 'describe': 1118, 'forces': 1119, 'skin': 1120, 'servants': 1121, 'sutras': 1122, 'lose': 1123, 'affected': 1124, 'wished': 1125, 'related': 1126, 'incorrect': 1127, 'hellish': 1128, 'mistaken': 1129, 'prevent': 1130, 'joyous': 1131, 'excellent': 1132, 'child': 1133, 'disillusion': 1134, 'lords': 1135, 'serve': 1136, 'renown': 1137, 'despondency': 1138, 'ease': 1139, 'came': 1140, 'inferior': 1141, 'desirous': 1142, 'lustful': 1143, 'othersʹ': 1144, 'scents': 1145, 'regarded': 1146, 'gem': 1147, 'ages': 1148, 'multitudes': 1149, 'buddha’s': 1150, 'healing': 1151, 'sublime': 1152, 'defilements': 1153, '“it': 1154, '”': 1155, 'afflictions': 1156, 'wheel': 1157, 'beat': 1158, 'defeated': 1159, 'robbed': 1160, 'mountain': 1161, 'dress': 1162, 'arrive': 1163, 'breaks': 1164, 'rejoices': 1165, 'possesses': 1166, 'already': 1167, 'forgetful': 1168, 'drives': 1169, 'crowd': 1170, 'plain': 1171, 'blamed': 1172, 'hides': 1173, 'chamber': 1174, \"man's\": 1175, 'knowing': 1176, 'watch': 1177, 'despised': 1178, 'log': 1179, 'departed': 1180, 'gathering': 1181, 'village': 1182, 'colour': 1183, 'achieved': 1184, 'sandal': 1185, 'tagara': 1186, 'rises': 1187, 'rubbish': 1188, 'meet': 1189, 'least': 1190, 'soon': 1191, 'repent': 1192, 'receives': 1193, 'honey': 1194, 'ascetic': 1195, 'weighed': 1196, 'suddenly': 1197, 'ashes': 1198, 'lot': 1199, 'bhikshus': 1200, 'subject': 1201, 'yearn': 1202, 'teach': 1203, 'forbid': 1204, 'improper': 1205, 'beloved': 1206, 'doers': 1207, 'drinks': 1208, 'preached': 1209, 'deep': 1210, 'befall': 1211, 'appear': 1212, 'clinging': 1213, 'appetites': 1214, 'finished': 1215, 'abandoned': 1216, 'depart': 1217, 'riches': 1218, 'mud': 1219, 'births': 1220, 'obtained': 1221, 'venerable': 1222, 'hears': 1223, \"one's\": 1224, 'victory': 1225, 'beauty': 1226, 'ignorant': 1227, 'commits': 1228, 'saying': 1229, 'gather': 1230, 'avoid': 1231, 'avoids': 1232, 'offend': 1233, 'sea': 1234, 'tremble': 1235, 'slaughter': 1236, 'blows': 1237, 'wicked': 1238, 'burns': 1239, 'heavy': 1240, 'misfortune': 1241, 'lightning': 1242, 'platted': 1243, 'trained': 1244, 'active': 1245, 'discernment': 1246, 'wounds': 1247, 'pieces': 1248, 'ends': 1249, 'approaches': 1250, 'maker': 1251, 'tabernacle': 1252, 'extinction': 1253, 'observed': 1254, 'youth': 1255, 'dear': 1256, 'carefully': 1257, 'subdue': 1258, 'undone': 1259, 'purified': 1260, 'rouse': 1261, 'formerly': 1262, 'brightens': 1263, 'train': 1264, 'transgressed': 1265, 'liberality': 1266, 'blessed': 1267, 'hearing': 1268, 'heavenly': 1269, 'satisfaction': 1270, 'groves': 1271, 'church': 1272, 'origin': 1273, 'easily': 1274, 'race': 1275, 'arising': 1276, 'ailments': 1277, 'ailing': 1278, 'drinking': 1279, 'dutiful': 1280, 'aim': 1281, 'grasping': 1282, 'says': 1283, 'continually': 1284, 'rich': 1285, 'beware': 1286, 'leaf': 1287, 'springs': 1288, 'greediness': 1289, 'shame': 1290, 'wretched': 1291, 'spotless': 1292, 'feeling': 1293, 'snare': 1294, 'folly': 1295, \"neighbour's\": 1296, 'inclined': 1297, 'envious': 1298, 'talking': 1299, 'held': 1300, 'learning': 1301, 'thorns': 1302, 'thoughtful': 1303, 'passive': 1304, 'young': 1305, 'meditates': 1306, 'unruly': 1307, 'besides': 1308, 'badly': 1309, 'performed': 1310, 'doctrines': 1311, 'silently': 1312, 'endures': 1313, 'elephants': 1314, 'animals': 1315, 'country': 1316, 'companion': 1317, 'hour': 1318, 'tell': 1319, 'crush': 1320, 'unless': 1321, 'undergo': 1322, 'fetter': 1323, 'dwells': 1324, 'content': 1325, 'despise': 1326, 'rejected': 1327, 'stop': 1328, 'settled': 1329, 'woe': 1330, 'advantages': 1331, 'arrogant': 1332, 'cling': 1333, 'mustard': 1334, 'spirits': 1335, 'meaningful': 1336, 'leisure': 1337, 'perpetually': 1338, 'contemplated': 1339, 'seize': 1340, 'sole': 1341, 'unceasingly': 1342, 'distinction': 1343, 'totally': 1344, 'asserted': 1345, 'sutra': 1346, 'depths': 1347, 'relieves': 1348, 'venerating': 1349, 'ignorantly': 1350, 'sometimes': 1351, 'half': 1352, 'waters': 1353, 'offered': 1354, 'lotuses': 1355, 'respectfully': 1356, 'pearls': 1357, 'jewelled': 1358, 'manifold': 1359, 'manjughosha': 1360, 'avalokiteshvara': 1361, 'anoint': 1362, 'fragrance': 1363, 'garlands': 1364, 'golden': 1365, 'resounding': 1366, 'reliquaries': 1367, 'similarly': 1368, 'abbots': 1369, 'practitioners': 1370, 'assembly': 1371, 'reside': 1372, 'beginningless': 1373, 'guides': 1374, 'realised': 1375, 'remaining': 1376, 'severed': 1377, 'dreadful': 1378, 'entire': 1379, 'horror': 1380, 'terrified': 1381, 'eradicate': 1382, 'inappropriate': 1383, 'inevitably': 1384, 'fearlessness': 1385, 'unwholesomeness': 1386, 'confess': 1387, 'unfortunate': 1388, 'developing': 1389, 'lamp': 1390, 'doctor': 1391, 'everyone': 1392, 'aeon': 1393, 'killing': 1394, 'powerful': 1395, 'support': 1396, 'varied': 1397, 'coincidence': 1398, 'poverty': 1399, 'worldʹs': 1400, 'universal': 1401, 'finally': 1402, 'temporary': 1403, 'conquerorʹs': 1404, 'deceive': 1405, 'stay': 1406, 'scarce': 1407, 'hear': 1408, 'flames': 1409, 'unendurable': 1410, 'courageous': 1411, 'used': 1412, 'foe': 1413, 'entrust': 1414, 'butchers': 1415, 'inflicted': 1416, 'impeccably': 1417, 'ʹ': 1418, 'moral': 1419, 'wearing': 1420, 'concentration': 1421, 'steal': 1422, 'defilement': 1423, 'field': 1424, 'behaving': 1425, 'ʺ—': 1426, 'closely': 1427, 'aspects': 1428, 'drawing': 1429, 'move': 1430, 'pursue': 1431, 'occurs': 1432, 'talk': 1433, 'peaceful': 1434, 'disheartened': 1435, 'ʺmineʺ': 1436, 'employed': 1437, 'exhaust': 1438, 'engage': 1439, 'moving': 1440, 'rare': 1441, 'finding': 1442, 'depend': 1443, 'harmed': 1444, 'heads': 1445, 'situation': 1446, 'directly': 1447, 'master': 1448, 'medical': 1449, 'fortitude': 1450, 'becoming': 1451, 'war': 1452, 'corpses': 1453, 'animate': 1454, 'permanent': 1455, 'committing': 1456, 'begrudging': 1457, 'protecting': 1458, 'nevertheless': 1459, 'dislike': 1460, '—surely': 1461, 'consumed': 1462, '‐': 1463, 'malice': 1464, 'loving': 1465, 'agonies': 1466, 'fraction': 1467, 'praising': 1468, 'gaining': 1469, 'obstacle': 1470, 'venerated': 1471, 'venerate': 1472, 'intentions': 1473, 'none': 1474, 'servant': 1475, 'displeasure': 1476, 'doubt': 1477, 'supported': 1478, 'hope': 1479, 'gripped': 1480, 'results': 1481, 'exchanging': 1482, 'ʺif': 1483, 'employ': 1484, 'ills': 1485, 'benefits': 1486, 'exhausted': 1487, 'tasks': 1488, 'teachers': 1489, 'cotton': 1490, 'distorted': 1491, 'abiding': 1492, 'equipoise': 1493, 'her': 1494, 'sandalwood': 1495, 'copulate': 1496, 'parts': 1497, 'uncleanliness': 1498, 'quite': 1499, 'possessions': 1500, 'pacify': 1501, 'special': 1502, 'limbs': 1503, 'remedy': 1504, 'compared': 1505, 'grasp': 1506, 'whereby': 1507, 'unnumbered': 1508, 'blissful': 1509, 'endless': 1510, 'paths': 1511, 'draft': 1512, 'gleaming': 1513, 'mañjughoṣha': 1514, 'kin': 1515, 'round': 1516, 'pray': 1517, 'life’s': 1518, 'join': 1519, 'nirvāṇa': 1520, 'destiny': 1521, 'founded': 1522, 'foot': 1523, 'ox': 1524, 'leaves': 1525, 'abused': 1526, '—in': 1527, 'harbour': 1528, 'rule': 1529, 'uncontrolled': 1530, 'overthrow': 1531, 'throws': 1532, 'moderate': 1533, 'temperance': 1534, 'vain': 1535, 'thatched': 1536, 'portion': 1537, 'priesthood': 1538, 'cowherd': 1539, 'cows': 1540, 'foolishness': 1541, 'immortality': 1542, 'dead': 1543, 'ariyas': 1544, 'meditative': 1545, 'glory': 1546, 'keeps': 1547, 'obtains': 1548, 'stands': 1549, 'moves': 1550, '—he': 1551, 'close': 1552, 'straight': 1553, 'trembling': 1554, 'unsteady': 1555, 'trembles': 1556, 'dominion': 1557, 'ceased': 1558, 'jar': 1559, 'alas': 1560, 'hater': 1561, 'mischief': 1562, 'relative': 1563, 'plainly': 1564, 'clever': 1565, 'mirage': 1566, 'bee': 1567, 'accordingly': 1568, 'travel': 1569, 'pervades': 1570, 'perfumes': 1571, 'mean': 1572, 'highway': 1573, 'lily': 1574, 'shines': 1575, 'tired': 1576, 'solitary': 1577, 'companionship': 1578, 'less': 1579, 'associated': 1580, 'perceives': 1581, 'soup': 1582, 'minute': 1583, 'gladly': 1584, 'ripens': 1585, 'blade': 1586, 'newly': 1587, 'drawn': 1588, 'nay': 1589, 'separation': 1590, 'treasures': 1591, 'avoided': 1592, 'worse': 1593, 'admonish': 1594, 'makers': 1595, 'fletchers': 1596, 'carpenters': 1597, 'fashion': 1598, 'shaken': 1599, 'laws': 1600, 'smooth': 1601, 'retirement': 1602, 'calling': 1603, 'swans': 1604, 'void': 1605, 'unconditioned': 1606, 'horses': 1607, 'driver': 1608, 'tolerant': 1609, 'store': 1610, 'ties': 1611, 'removed': 1612, 'persons': 1613, 'passionless': 1614, 'gatha': 1615, 'brahman': 1616, 'change': 1617, 'defeat': 1618, 'soul': 1619, 'quarter': 1620, 'reverence': 1621, 'righteous': 1622, 'outcome': 1623, 'days': 1624, 'lightly': 1625, 'nigh': 1626, 'pot': 1627, 'merchant': 1628, 'loves': 1629, 'harmless': 1630, 'innocent': 1631, 'falls': 1632, 'midst': 1633, 'remember': 1634, 'harshly': 1635, 'anybody': 1636, 'utter': 1637, 'burnt': 1638, 'ten': 1639, 'affliction': 1640, 'coming': 1641, 'fearful': 1642, 'relations': 1643, 'dirt': 1644, 'lying': 1645, 'sitting': 1646, 'dressed': 1647, 'tranquillity': 1648, 'chaste': 1649, 'sramana': 1650, 'friar': 1651, 'humility': 1652, 'reproof': 1653, 'whip': 1654, 'surrounded': 1655, 'autumn': 1656, 'deceit': 1657, 'approaching': 1658, 'eternal': 1659, 'direct': 1660, 'teaches': 1661, 'crushes': 1662, 'wickedness': 1663, 'easy': 1664, 'rests': 1665, 'chariot': 1666, 'reckless': 1667, 'afterwards': 1668, 'escaped': 1669, 'net': 1670, 'sovereignty': 1671, 'conquest': 1672, 'track': 1673, 'trackless': 1674, 'pravragita': 1675, 'strikes': 1676, 'satisfying': 1677, 'lusts': 1678, 'delivered': 1679, 'truths': 1680, 'eightfold': 1681, 'quieting': 1682, 'devotion': 1683, 'pays': 1684, 'feeding': 1685, 'contented': 1686, 'higher': 1687, 'contentedness': 1688, 'kinsfolk': 1689, 'satisfied': 1690, 'kinsmen': 1691, 'returns': 1692, 'afar': 1693, 'calls': 1694, 'rising': 1695, 'yield': 1696, 'asked': 1697, 'steps': 1698, 'nobody': 1699, 'study': 1700, 'silent': 1701, 'discriminate': 1702, 'river': 1703, 'bodily': 1704, 'door': 1705, 'provision': 1706, 'blown': 1707, 'guilt': 1708, 'resting': 1709, 'non': 1710, 'sloth': 1711, 'woman': 1712, 'benefactor': 1713, 'tainted': 1714, 'mendicants': 1715, 'fellow': 1716, 'outward': 1717, 'matter': 1718, 'violence': 1719, 'talks': 1720, 'supporter': 1721, 'elder': 1722, 'moderation': 1723, 'respectable': 1724, 'quieted': 1725, 'chooses': 1726, 'vows': 1727, 'earn': 1728, 'passionlessness': 1729, 'unreal': 1730, 'roads': 1731, 'zeal': 1732, 'smallest': 1733, 'cherish': 1734, 'sugata': 1735, 'watchfulness': 1736, 'scatheless': 1737, 'subjects': 1738, 'equals': 1739, 'itinerant': 1740, 'beset': 1741, 'wealthy': 1742, 'shine': 1743, 'arrows': 1744, 'subduing': 1745, 'swallow': 1746, 'ball': 1747, 'charity': 1748, 'grasped': 1749, 'cuts': 1750, 'arm': 1751, 'vow': 1752, 'vigorously': 1753, 'careless': 1754, 'pilgrim': 1755, 'abuse': 1756, 'sent': 1757, 'running': 1758, 'hook': 1759, 'sunk': 1760, 'prudent': 1761, 'soberly': 1762, 'overcoming': 1763, 'lasting': 1764, 'fierce': 1765, 'birana': 1766, 'dig': 1767, 'channels': 1768, 'waves': 1769, 'carry': 1770, 'snared': 1771, 'hare': 1772, 'stones': 1773, 'cares': 1774, 'slaves': 1775, 'web': 1776, 'tossed': 1777, 'remove': 1778, 'wisely': 1779, 'kindness': 1780, 'cessation': 1781, 'mayest': 1782, 'entered': 1783, 'considered': 1784, 'vanish': 1785, 'fearless': 1786, 'warrior': 1787, 'fly': 1788, 'aggressor': 1789, 'flies': 1790, 'points': 1791, 'raiments': 1792, 'independent': 1793, 'army': 1794, 'seed': 1795, 'needle': 1796, 'fosters': 1797, 'inclinations': 1798, 'accomplished': 1799, 'former': 1800, 'abodes': 1801, 'perfections': 1802, 'skill': 1803, 'lacking': 1804, 'rarely': 1805, 'briefly': 1806, 'jail': 1807, 'revered': 1808, 'priceless': 1809, 'plantain': 1810, 'brave': 1811, 'liberated': 1812, 'devote': 1813, 'instantly': 1814, 'consumes': 1815, 'sudhana': 1816, 'aspires': 1817, 'asleep': 1818, 'unconcerned': 1819, 'vehicle': 1820, 'tathagata': 1821, 'requested': 1822, 'goodness': 1823, 'inconceivable': 1824, 'benevolent': 1825, 'satisfies': 1826, 'clears': 1827, 'comparable': 1828, 'honours': 1829, 'bestows': 1830, 'peerless': 1831, 'sugatas': 1832, 'hopes': 1833, 'generate': 1834, 'refreshing': 1835, 'branches': 1836, 'celestial': 1837, 'harvests': 1838, 'lakes': 1839, 'wild': 1840, 'spheres': 1841, 'kindly': 1842, 'bathing': 1843, 'crystal': 1844, 'floors': 1845, 'exquisite': 1846, 'pillars': 1847, 'ablaze': 1848, 'canopies': 1849, 'bathe': 1850, 'music': 1851, 'song': 1852, 'cloths': 1853, 'garments': 1854, 'adorn': 1855, 'refined': 1856, 'delicacies': 1857, 'lamps': 1858, 'arranged': 1859, 'sprinkled': 1860, 'scatter': 1861, 'delicate': 1862, 'palaces': 1863, 'melodious': 1864, 'hanging': 1865, 'umbrellas': 1866, 'appease': 1867, 'necessary': 1868, 'bestow': 1869, 'eulogy': 1870, 'ascend': 1871, 'numerous': 1872, 'parents': 1873, 'abundance': 1874, 'healthy': 1875, 'ahead': 1876, 'unaware': 1877, 'accumulated': 1878, 'appearance': 1879, 'transfigured': 1880, 'despair': 1881, 'disease': 1882, 'panic': 1883, 'clasped': 1884, 'quarters': 1885, 'gloom': 1886, 'protector': 1887, 'flee': 1888, 'cleared': 1889, 'doctorʹs': 1890, 'illness': 1891, 'cure': 1892, 'uproot': 1893, 'duration': 1894, 'consider': 1895, 'levels': 1896, 'nurse': 1897, 'famine': 1898, 'beside': 1899, 'play': 1900, 'encounter': 1901, 'travellers': 1902, 'cross': 1903, 'mantras': 1904, 'wish‐fulfilling': 1905, 'cow': 1906, 'gave': 1907, 'successively': 1908, 'further': 1909, 'buddhaʹs': 1910, 'accord': 1911, 'torment': 1912, 'misty': 1913, 'butter': 1914, 'guests': 1915, 'travelling': 1916, 'satisfy': 1917, 'festival': 1918, 'ultimate': 1919, 'anti‐gods': 1920, 'reconsider': 1921, 'intended': 1922, 'hungry': 1923, 'ghost': 1924, 'unsurpassable': 1925, 'hinder': 1926, 'obstruct': 1927, 'hindered': 1928, 'promised': 1929, 'laceration': 1930, 'cultivate': 1931, 'momentary': 1932, 'readily': 1933, 'amass': 1934, 'turtle': 1935, 'yoke': 1936, 'adrift': 1937, 'spent': 1938, 'gathered': 1939, 'extensively': 1940, 'remorse': 1941, 'inside': 1942, 'legs': 1943, 'shameful': 1944, 'met': 1945, 'tormentors': 1946, 'short‐lived': 1947, 'self‐important': 1948, 'disregard': 1949, 'pierced': 1950, 'hundreds': 1951, 'fulfil': 1952, 'fishermen': 1953, 'farmers': 1954, 'capacity': 1955, 'vanquishing': 1956, 'bowing': 1957, 'retire': 1958, 'settle': 1959, 'deluded': 1960, 'dispelled': 1961, 'try': 1962, 'instructions': 1963, 'ignored': 1964, 'attentively': 1965, 'crazed': 1966, 'snakes': 1967, 'ensure': 1968, 'equivalent': 1969, 'leather': 1970, 'cover': 1971, 'reality': 1972, 'hardships': 1973, 'secret': 1974, 'mind—': 1975, 'disciplines': 1976, 'slightly': 1977, 'deteriorate': 1978, 'willing': 1979, 'perseverance': 1980, 'thieves': 1981, 'doorway': 1982, 'recall': 1983, 'generated': 1984, 'recollection': 1985, 'resolute': 1986, 'check': 1987, 'applied': 1988, 'otherwise': 1989, 'show': 1990, 'abandon': 1991, 'recalling': 1992, 'belittle': 1993, 'feelings': 1994, 'pretension': 1995, 'dispute': 1996, 'circle': 1997, 'remedial': 1998, 'apparition': 1999, 'utterly': 2000, 'putrid': 2001, 'machine': 2002, 'frame': 2003, 'apprehend': 2004, 'wages': 2005, 'transform': 2006, 'noisily': 2007, 'thief': 2008, 'miserable': 2009, 'beholding': 2010, 'progressively': 2011, 'exalted': 2012, 'amongst': 2013, 'fallen': 2014, 'sufficient': 2015, 'wear': 2016, 'cloth': 2017, 'sticks': 2018, 'stick': 2019, 'cleaning': 2020, 'teeth': 2021, 'fill': 2022, 'wide': 2023, 'outstretched': 2024, 'lay': 2025, 'desired': 2026, 'relying': 2027, 'cost': 2028, 'reading': 2029, 'read': 2030, 'compendium': 2031, 'condition': 2032, 'actual': 2033, 'benefitted': 2034, 'amassed': 2035, 'fuel': 2036, 'unhappiness': 2037, 'befalls': 2038, 'disturb': 2039, 'remedied': 2040, 'disrespect': 2041, 'harsh': 2042, 'insects': 2043, 'timid': 2044, 'lucid': 2045, 'victorious': 2046, 'warriors': 2047, 'vanquish': 2048, 'arrogance': 2049, 'provoked': 2050, 'substance': 2051, 'unproduced': 2052, 'governed': 2053, 'factors': 2054, 'obtaining': 2055, 'obsessed': 2056, 'arisal': 2057, 'incited': 2058, 'really': 2059, 'blind': 2060, 'isnʹt': 2061, 'accepting': 2062, '—because': 2063, 'suppose': 2064, 'consume': 2065, 'confidence': 2066, 'images': 2067, 'inanimate': 2068, 'meritorious': 2069, 'example': 2070, 'moved': 2071, 'spread': 2072, 'spreads': 2073, 'experiencing': 2074, 'suffered': 2075, 'compete': 2076, 'ʺfor': 2077, 'cooked': 2078, 'sounds': 2079, 'distract': 2080, 'inflict': 2081, 'doctors': 2082, 'veneration': 2083, 'alike': 2084, 'eminence': 2085, 'buddha‐qualities': 2086, 'paying': 2087, 'repay': 2088, 'befriend': 2089, 'dying': 2090, 'movement': 2091, 'opposing': 2092, 'ʺoh': 2093, 'earnestly': 2094, 'equality': 2095, 'indulge': 2096, 'exertion': 2097, 'frightens': 2098, 'eliminate': 2099, 'treatments': 2100, 'discomfort': 2101, 'later': 2102, 'accustomed': 2103, 'oneʹs': 2104, 'excel': 2105, 'weariness': 2106, 'excellences': 2107, 'teachings': 2108, 'womb': 2109, 'arisen': 2110, 'reject': 2111, 'cool': 2112, 'glorious': 2113, 'unfolded': 2114, 'swords': 2115, 'daggers': 2116, 'aspire': 2117, 'powerless': 2118, 'snake': 2119, 'trying': 2120, 'self‐confident': 2121, 'stupid': 2122, 'ugly': 2123, 'conceit': 2124, 'counted': 2125, 'foxes': 2126, 'smeared': 2127, 'complete': 2128, 'plunges': 2129, 'bind': 2130, 'sword': 2131, 'pick': 2132, 'contemplate': 2133, 'conscientiousness': 2134, 'distractions': 2135, 'superior': 2136, 'insight': 2137, 'unattached': 2138, 'conceited': 2139, 'piling': 2140, 'praises': 2141, 'associate': 2142, 'along': 2143, 'deer': 2144, 'caves': 2145, 'shrines': 2146, 'clothes': 2147, 'hide': 2148, 'cemeteries': 2149, 'arose': 2150, 'sexual': 2151, 'lift': 2152, 'looked': 2153, 'pile': 2154, 'saliva': 2155, 'soft': 2156, 'bags': 2157, 'revel': 2158, 'attractive': 2159, 'price': 2160, 'sell': 2161, 'lonely': 2162, 'soldier': 2163, 'difficulty': 2164, 'wanting': 2165, 'conceiving': 2166, 'dies': 2167, 'sufferer': 2168, 'justified': 2169, 'owner': 2170, 'argument': 2171, 'wonderful': 2172, 'impersonal': 2173, 'familiarity': 2174, 'sperm': 2175, 'cherishing': 2176, 'selfishness': 2177, 'habituate': 2178, 'rob': 2179, 'comfort': 2180, 'triple': 2181, 'selfish': 2182, 'acquire': 2183, 'magnificent': 2184, 'difference': 2185, 'concern': 2186, 'considering': 2187, 'honoured': 2188, 'ʺbut': 2189, 'heal': 2190, 'proud': 2191, 'selfishly': 2192, 'transgress': 2193, 'destined': 2194, 'degree': 2195, 'black': 2196, 'buddhas’': 2197, 'prisons': 2198, 'unbounded': 2199, 'turning': 2200, 'ceaseless': 2201, 'bringing': 2202, 'harbor': 2203, 'simple': 2204, 'fulfillment': 2205, 'abundant': 2206, 'perfumed': 2207, 'sumptuous': 2208, 'beings’': 2209, 'melody': 2210, 'fair': 2211, 'unceasing': 2212, 'enlightenment': 2213, 'mercy': 2214, 'palms': 2215, 'praying': 2216, '“in': 2217, 'wait': 2218, 'dread': 2219, 'labor': 2220, 'wanderers': 2221, 'hearts': 2222, 'terrors': 2223, 'doctor’s': 2224, 'abject': 2225, 'stupidity': 2226, '“today': 2227, 'sure': 2228, 'it’s': 2229, 'celebrate': 2230, 'grounds': 2231, 'scattered': 2232, 'sustenance': 2233, 'limits': 2234, 'summon': 2235, 'demigods': 2236, 'scrutinized': 2237, 'unrelenting': 2238, 'faculties': 2239, 'emotions': 2240, 'fight': 2241, 'whence': 2242, 'draws': 2243, 'carriage': 2244, 'shadow': 2245, 'ceases': 2246, 'quarrels': 2247, 'immoderate': 2248, 'rocky': 2249, 'disregards': 2250, 'unworthy': 2251, 'regards': 2252, 'imagine': 2253, 'unreflecting': 2254, 'counting': 2255, 'follower': 2256, 'serenity': 2257, 'advanced': 2258, 'possessed': 2259, 'powers': 2260, 'roused': 2261, 'consideration': 2262, 'restrains': 2263, '—then': 2264, 'rousing': 2265, 'overwhelm': 2266, 'ample': 2267, 'climbing': 2268, 'terraced': 2269, 'heights': 2270, 'toiling': 2271, 'sleepers': 2272, 'advances': 2273, 'racer': 2274, 'hack': 2275, 'maghavan': 2276, 'indra': 2277, 'reflection': 2278, 'fletcher': 2279, 'watery': 2280, 'tame': 2281, 'flighty': 2282, 'rushing': 2283, 'listeth': 2284, 'artful': 2285, 'rush': 2286, 'list': 2287, 'bridle': 2288, 'troubled': 2289, 'dissipated': 2290, 'perplexed': 2291, 'fragile': 2292, 'fortress': 2293, 'useless': 2294, 'wrongly': 2295, 'service': 2296, 'froth': 2297, 'unsubstantial': 2298, 'pointed': 2299, 'subdues': 2300, 'satiated': 2301, 'collects': 2302, 'nectar': 2303, 'departs': 2304, 'injuring': 2305, 'perversities': 2306, 'commission': 2307, 'omission': 2308, 'misdeeds': 2309, 'negligences': 2310, 'notice': 2311, 'fruitless': 2312, 'fruitful': 2313, 'wreaths': 2314, 'mallika': 2315, 'vassiki': 2316, 'sorts': 2317, 'unsurpassed': 2318, '—the': 2319, 'emancipated': 2320, 'mile': 2321, 'traveller': 2322, 'belongs': 2323, 'spoon': 2324, 'bitter': 2325, 'crying': 2326, 'tearful': 2327, 'cheerfully': 2328, 'tip': 2329, 'kusa': 2330, 'sixteenth': 2331, 'particle': 2332, 'smouldering': 2333, 'cleaves': 2334, 'precedence': 2335, 'convents': 2336, 'layman': 2337, 'tells': 2338, 'shows': 2339, 'administers': 2340, 'reproofs': 2341, 'hated': 2342, 'solid': 2343, 'rock': 2344, 'falter': 2345, 'listened': 2346, 'prattle': 2347, 'longing': 2348, 'elated': 2349, 'depressed': 2350, 'success': 2351, 'unfair': 2352, 'arhats': 2353, 'across': 2354, 'homeless': 2355, 'seemed': 2356, 'purge': 2357, 'troubles': 2358, 'seven': 2359, 'recognised': 2360, 'stilled': 2361, 'absorbed': 2362, \"indra's\": 2363, 'bolt': 2364, 'new': 2365, 'credulity': 2366, 'uncreated': 2367, 'temptations': 2368, 'renounced': 2369, 'hamlet': 2370, 'arhanta': 2371, 'poem': 2372, 'gathas': 2373, 'god': 2374, 'gandharva': 2375, 'vanquished': 2376, 'agni': 2377, 'oblation': 2378, 'year': 2379, 'farthing': 2380, 'greets': 2381, 'reveres': 2382, 'aged': 2383, 'vicious': 2384, 'hasten': 2385, 'slothfully': 2386, 'companions': 2387, 'dangerous': 2388, 'affect': 2389, 'clefts': 2390, 'spot': 2391, 'punishes': 2392, 'kills': 2393, 'punish': 2394, 'answer': 2395, 'shattered': 2396, 'metal': 2397, 'plate': 2398, 'gong': 2399, 'contention': 2400, 'staff': 2401, 'stable': 2402, 'inflicts': 2403, 'cruel': 2404, 'accusation': 2405, 'nakedness': 2406, 'fasting': 2407, 'rubbing': 2408, 'motionless': 2409, 'apparel': 2410, 'exercises': 2411, 'lively': 2412, 'energy': 2413, 'laughter': 2414, 'lump': 2415, 'joined': 2416, 'sickly': 2417, 'wasted': 2418, 'frail': 2419, 'corruption': 2420, 'white': 2421, 'gourds': 2422, 'stronghold': 2423, 'brilliant': 2424, 'chariots': 2425, '—thus': 2426, 'shalt': 2427, 'rafters': 2428, 'ridge': 2429, 'pole': 2430, 'sundered': 2431, 'visankhara': 2432, 'herons': 2433, 'bows': 2434, 'sighing': 2435, 'watches': 2436, 'begotten': 2437, 'bred': 2438, 'diamond': 2439, 'stone': 2440, 'surrounds': 2441, 'hurtful': 2442, 'ourselves': 2443, 'scorns': 2444, 'arahat': 2445, 'katthaka': 2446, 'reed': 2447, 'forget': 2448, \"another's\": 2449, 'discerned': 2450, 'bubble': 2451, 'glittering': 2452, 'royal': 2453, 'immersed': 2454, 'became': 2455, 'sober': 2456, 'ether': 2457, 'miraculous': 2458, 'lies': 2459, 'scoffs': 2460, 'uncharitable': 2461, 'holiness': 2462, 'enters': 2463, 'snares': 2464, 'poisons': 2465, 'astray': 2466, 'repose': 2467, 'mortals': 2468, 'penance': 2469, 'anchorite': 2470, 'insults': 2471, 'strike': 2472, '—this': 2473, 'shower': 2474, 'supernatural': 2475, 'prospers': 2476, 'deserve': 2477, 'crossed': 2478, 'deliverance': 2479, 'measured': 2480, 'hating': 2481, 'breeds': 2482, 'worst': 2483, 'diseases': 2484, 'relationships': 2485, 'tasted': 2486, 'tastes': 2487, 'arya': 2488, 'meeting': 2489, 'enduring': 2490, 'stars': 2491, 'forgetting': 2492, 'exerted': 2493, 'business': 2494, 'ineffable': 2495, 'sprung': 2496, 'urdhvamsrotas': 2497, 'carried': 2498, 'upwards': 2499, 'lovers': 2500, 'salute': 2501, '—as': 2502, 'rolling': 2503, 'reins': 2504, 'liar': 2505, 'unchangeable': 2506, 'atula': 2507, 'sits': 2508, 'blemish': 2509, 'dare': 2510, 'coin': 2511, 'gambu': 2512, 'sear': 2513, 'standest': 2514, 'departure': 2515, 'blow': 2516, 'smith': 2517, 'silver': 2518, \"transgressor's\": 2519, 'prayers': 2520, 'repetition': 2521, 'repair': 2522, 'watchman': 2523, 'taints': 2524, '—ignorance': 2525, 'taintless': 2526, 'crow': 2527, 'insulting': 2528, 'bold': 2529, 'modest': 2530, 'disinterested': 2531, 'intoxicating': 2532, 'liquors': 2533, 'digs': 2534, 'vice': 2535, 'frets': 2536, 'shark': 2537, 'torrent': 2538, 'winnows': 2539, 'chaff': 2540, 'cheat': 2541, 'gambler': 2542, 'offended': 2543, 'distinguishes': 2544, 'equity': 2545, 'neglects': 2546, 'grey': 2547, 'ripe': 2548, 'dishonest': 2549, 'complexion': 2550, 'tonsure': 2551, 'undisciplined': 2552, 'falsehood': 2553, 'captive': 2554, 'quiets': 2555, 'asks': 2556, 'alms': 2557, 'adopts': 2558, 'begs': 2559, 'passes': 2560, 'observes': 2561, 'silence': 2562, 'mona': 2563, 'mauna': 2564, 'balance': 2565, 'weighs': 2566, 'injures': 2567, 'pity': 2568, 'entering': 2569, 'trance': 2570, 'release': 2571, 'worldling': 2572, 'confident': 2573, 'purifying': 2574, 'removal': 2575, 'preachers': 2576, 'lazy': 2577, 'watching': 2578, 'achieve': 2579, 'gotten': 2580, 'lost': 2581, 'double': 2582, 'undergrowth': 2583, 'calf': 2584, 'winter': 2585, 'summer': 2586, 'flocks': 2587, 'entangled': 2588, 'neglected': 2589, 'increasing': 2590, 'steadfastly': 2591, 'valiant': 2592, 'kingdom': 2593, 'eminent': 2594, 'monastery': 2595, 'celebrated': 2596, 'respected': 2597, 'snowy': 2598, 'shot': 2599, 'ceasing': 2600, 'practises': 2601, 'shoulders': 2602, 'gown': 2603, 'heated': 2604, 'flaring': 2605, 'wreckless': 2606, 'covets': 2607, '—a': 2608, 'uncomfortable': 2609, 'thirdly': 2610, 'lastly': 2611, 'imposes': 2612, 'asceticism': 2613, 'carelessly': 2614, 'hesitating': 2615, 'obedience': 2616, 'scatters': 2617, 'widely': 2618, 'repents': 2619, 'frontier': 2620, 'fort': 2621, 'defences': 2622, 'allow': 2623, 'natured': 2624, 'mounts': 2625, 'mules': 2626, 'sindhu': 2627, 'tusks': 2628, 'tames': 2629, 'untrodden': 2630, 'animal': 2631, 'dhanapalaka': 2632, 'temples': 2633, 'sap': 2634, 'morsel': 2635, 'longs': 2636, 'grove': 2637, 'fat': 2638, 'eater': 2639, 'sleepy': 2640, 'rolls': 2641, 'hog': 2642, 'fed': 2643, 'wash': 2644, 'went': 2645, 'liked': 2646, 'listed': 2647, 'rider': 2648, 'furious': 2649, 'dangers': 2650, 'considerate': 2651, '—like': 2652, 'occasion': 2653, 'rooted': 2654, 'avoiding': 2655, 'monkey': 2656, 'whomsoever': 2657, 'abounding': 2658, 'salutary': 2659, 'assembled': 2660, 'wants': 2661, 'usira': 2662, 'reeds': 2663, 'feeders': 2664, 'exceeding': 2665, 'thirty': 2666, 'six': 2667, 'misguided': 2668, 'sprouting': 2669, 'springing': 2670, \"creature's\": 2671, 'extravagant': 2672, 'luxurious': 2673, 'got': 2674, 'hemp': 2675, 'stronger': 2676, 'rings': 2677, 'drags': 2678, 'yields': 2679, 'undo': 2680, 'spider': 2681, 'middle': 2682, 'goest': 2683, 'altogether': 2684, 'yearning': 2685, 'c': 2686, 'consummation': 2687, 'understands': 2688, 'interpretation': 2689, 'letters': 2690, 'ear': 2691, 'nose': 2692, 'inwardly': 2693, 'calmly': 2694, 'envies': 2695, 'identifies': 2696, 'grieve': 2697, 'emptied': 2698, 'oghatinna': 2699, 'saved': 2700, 'heedless': 2701, 'heedlessness': 2702, 'tranquil': 2703, 'feels': 2704, 'khandha': 2705, 'duties': 2706, 'fulness': 2707, 'vassika': 2708, 'plant': 2709, 'sheds': 2710, 'withered': 2711, 'shed': 2712, 'baits': 2713, 'curb': 2714, 'curbs': 2715, 'applies': 2716, 'valiantly': 2717, 'contemplation': 2718, 'blameless': 2719, 'armour': 2720, 'splendour': 2721, 'quietly': 2722, 'pabbagita': 2723, 'attacked': 2724, 'vanished': 2725, 'worships': 2726, 'sacrificial': 2727, 'righteousness': 2728, 'raiment': 2729, 'goat': 2730, 'skins': 2731, 'ravening': 2732, 'outside': 2733, 'makest': 2734, 'wears': 2735, 'emaciated': 2736, 'veins': 2737, 'attachments': 2738, 'strap': 2739, 'thong': 2740, 'chain': 2741, 'pertains': 2742, 'burst': 2743, 'bar': 2744, 'offence': 2745, 'reproach': 2746, 'stripes': 2747, 'endurance': 2748, 'appetite': 2749, 'burden': 2750, 'aloof': 2751, 'laymen': 2752, 'frequents': 2753, 'intolerant': 2754, 'mild': 2755, 'finders': 2756, 'passionate': 2757, 'dropt': 2758, 'utters': 2759, 'instructive': 2760, 'harshness': 2761, 'interests': 2762, 'depth': 2763, 'undisturbed': 2764, 'gaiety': 2765, 'traversed': 2766, 'miry': 2767, 'impassable': 2768, 'guileless': 2769, 'concupiscence': 2770, 'longings': 2771, 'covetousness': 2772, 'risen': 2773, 'germs': 2774, 'renewed': 2775, 'welfaring': 2776, 'gandharvas': 2777, 'arhat': 2778, 'manly': 2779, 'impassible': 2780, 'rhetoric': 2781, 'write': 2782, 'endowment': 2783, 'advantage': 2784, 'flash': 2785, 'cloudy': 2786, 'brightly': 2787, 'illuminates': 2788, 'intense': 2789, 'masses': 2790, 'multitude': 2791, 'fettered': 2792, 'named': 2793, 'ʹa': 2794, 'sugatasʹ': 2795, 'gold‐making': 2796, 'elixir': 2797, 'transforms': 2798, 'buddha‐form': 2799, 'thorough': 2800, 'investigation': 2801, 'preciousness': 2802, 'bearing': 2803, 'perennial': 2804, 'flourishes': 2805, 'conscientious': 2806, 'unfathomable': 2807, 'maitreya': 2808, 'types': 2809, 'ventures': 2810, 'uninterrupted': 2811, 'flow': 2812, 'venturing': 2813, 'liberating': 2814, 'logically': 2815, 'subahu': 2816, 'relieve': 2817, 'headache': 2818, 'fathers': 2819, 'mothers': 2820, 'brahma': 2821, 'dreamt': 2822, 'extraordinary': 2823, 'unprecedented': 2824, 'wonder': 2825, 'fathom': 2826, 'panacea': 2827, 'excels': 2828, 'exception': 2829, 'deprived': 2830, 'burdened': 2831, 'repays': 2832, 'disrespectfully': 2833, 'numbers': 2834, 'multiply': 2835, 'negativity': 2836, 'stainless': 2837, 'gem‐encrusted': 2838, 'bedecked': 2839, 'fruit‐laden': 2840, 'fragrances': 2841, 'uncultivated': 2842, 'pools': 2843, 'geese': 2844, 'unowned': 2845, 'creating': 2846, 'helping': 2847, 'heroes': 2848, 'transcend': 2849, 'sweetly': 2850, 'chambers': 2851, 'brilliantly': 2852, 'sparkling': 2853, 'aglow': 2854, 'vases': 2855, 'enticing': 2856, 'accompaniment': 2857, 'incomparable': 2858, 'well‐anointed': 2859, 'suitable': 2860, 'colours': 2861, 'aryas': 2862, 'polishing': 2863, 'buddhasʹ': 2864, 'blaze': 2865, 'choicest': 2866, 'permeates': 2867, 'well‐arranged': 2868, 'enchanting': 2869, 'smelling': 2870, 'jasmine': 2871, 'blooms': 2872, 'send': 2873, 'aroma': 2874, 'steals': 2875, 'including': 2876, 'variety': 2877, 'buds': 2878, 'petals': 2879, 'hymns': 2880, 'exquisitely': 2881, 'illuminated': 2882, 'infinities': 2883, 'handles': 2884, 'embelishing': 2885, 'rims': 2886, 'standing': 2887, 'erect': 2888, 'shapes': 2889, 'mass': 2890, 'continuous': 2891, 'statues': 2892, 'glorify': 2893, 'verses': 2894, 'harmonious': 2895, 'atoms': 2896, 'community': 2897, 'bases': 2898, 'unknowingly': 2899, 'ordered': 2900, 'overwhelmed': 2901, 'deceptions': 2902, 'rejoiced': 2903, 'grave': 2904, 'polluted': 2905, 'untrustworthy': 2906, 'waits': 2907, 'lifespan': 2908, 'unstable': 2909, 'slipping': 2910, 'getting': 2911, 'longer': 2912, 'relied': 2913, 'petrified': 2914, 'torture': 2915, 'sunken': 2916, 'ʺwho': 2917, 'bulging': 2918, 'agape': 2919, 'enveloped': 2920, 'shelter': 2921, 'purely': 2922, 'infallibly': 2923, 'mournful': 2924, 'ʺplease': 2925, 'evil‐doer': 2926, 'akashagarbha': 2927, 'ksitigarbha': 2928, 'vajrapani': 2929, 'comply': 2930, 'diseased': 2931, 'accordance': 2932, 'all‐knowing': 2933, 'physicians': 2934, 'precipice': 2935, 'miles': 2936, 'terminated': 2937, 'experiences': 2938, 'mastersʹ': 2939, 'unknowing': 2940, 'breaking': 2941, 'humbly': 2942, 'prostrating': 2943, 'arhatʹs': 2944, 'definite': 2945, 'gladness': 2946, 'miseryʹs': 2947, 'inexhaustible': 2948, 'placed': 2949, 'enjoyments': 2950, 'transcended': 2951, 'sorrowless': 2952, 'abusing': 2953, 'beating': 2954, 'jest': 2955, 'encounters': 2956, 'mock': 2957, 'insult': 2958, 'ship': 2959, 'magic': 2960, 'plenty': 2961, '•': 2962, 'dwelt': 2963, 'lucidly': 2964, 'highly': 2965, 'borne': 2966, 'iʹve': 2967, 'disgrace': 2968, 'pollute': 2969, 'unsullied': 2970, 'blindman': 2971, 'discovering': 2972, 'ambrosia': 2973, 'inexhaustable': 2974, 'eliminates': 2975, 'quells': 2976, 'shelters': 2977, 'dawning': 2978, 'dispells': 2979, 'removes': 2980, 'quintessential': 2981, 'churning': 2982, 'bounties': 2983, 'invite': 2984, 'waver': 2985, 'stray': 2986, 'deceiving': 2987, 'sincerely': 2988, 'invited': 2989, 'discern': 2990, 'scope': 2991, 'heaviest': 2992, 'weakened': 2993, 'weakening': 2994, 'impaired': 2995, 'revolving': 2996, 'cyclicʺ': 2997, 'reaching': 2998, 'shedding': 2999, 'well‐nourished': 3000, 'unafflicted': 3001, 'deceptive': 3002, 'loan': 3003, 'ʺa': 3004, 'lifeʺ': 3005, 'reasons': 3006, 'insert': 3007, 'neck': 3008, 'attune': 3009, 'deception': 3010, 'foolishly': 3011, 'arrives': 3012, 'rear': 3013, 'blazes': 3014, 'hypnotised': 3015, 'spell': 3016, 'reduce': 3017, 'roaring': 3018, 'length': 3019, 'long‐time': 3020, 'agreeably': 3021, 'unafraid': 3022, 'prepare': 3023, 'incessant': 3024, 'prison': 3025, 'slain': 3026, 'certainty': 3027, 'exerting': 3028, 'engaged': 3029, 'violent': 3030, 'spears': 3031, 'faint‐hearted': 3032, 'scars': 3033, 'worn': 3034, 'strives': 3035, 'hunters': 3036, 'liberate': 3037, 'somewhat': 3038, 'crazy': 3039, 'grudge': 3040, 'cenceptions': 3041, 'everpresent': 3042, 'expelled': 3043, 'recovered': 3044, 'weak‐minded': 3045, 'organs': 3046, 'illusion—thus': 3047, 'resolutely': 3048, 'medicines': 3049, 'unsubdued': 3050, 'unleashed': 3051, 'rope': 3052, 'tigers': 3053, 'lions': 3054, 'cannibals': 3055, 'binding': 3056, 'teacher': 3057, 'originate': 3058, 'intentionally': 3059, 'workings': 3060, 'alleviation': 3061, 'starving': 3062, 'nowhere': 3063, 'eradicated': 3064, 'unlimited': 3065, 'surface': 3066, 'soles': 3067, 'shoes': 3068, 'covering': 3069, 'possible': 3070, 'external': 3071, 'development': 3072, 'brahmaʹs': 3073, 'vocal': 3074, 'accompanied': 3075, 'knower': 3076, 'recitation': 3077, 'periods': 3078, 'comprehend': 3079, 'paramount': 3080, 'significance': 3081, 'bustling': 3082, 'crushed': 3083, 'yourselves': 3084, 'useful': 3085, 'meditated': 3086, 'leaking': 3087, 'retained': 3088, 'mistake': 3089, 'unalertness': 3090, 're‐establish': 3091, 'staying': 3092, 'unobstructed': 3093, 'mindfully': 3094, 'repeatedly': 3095, 'ai': 3096, 'unmoveable': 3097, 'distractedly': 3098, 'downwards': 3099, 'gaze': 3100, 'ʺwelcome': 3101, 'necessity': 3102, 'mindful': 3103, 'prepared': 3104, 'ʺmy': 3105, 'periodically': 3106, 'maintained': 3107, 'utmost': 3108, 'pillar': 3109, 'analyse': 3110, 'celebrations': 3111, 'indifferent': 3112, 'proximate': 3113, 'conversation': 3114, 'spectacular': 3115, 'digging': 3116, 'picking': 3117, 'patterns': 3118, 'steadiness': 3119, 'verbally': 3120, 'self‐satisfaction': 3121, 'eager': 3122, 'attendants': 3123, 'served': 3124, 'picece': 3125, 'decrease': 3126, 'impatience': 3127, 'cowardice': 3128, 'shamelessness': 3129, 'nonsense': 3130, 'partiality': 3131, 'application': 3132, 'respectful': 3133, 'polite': 3134, 'apprehensive': 3135, 'whims': 3136, 'discord': 3137, 'fast': 3138, 'unshakeable': 3139, 'dragged': 3140, 'concerned': 3141, 'onto': 3142, 'wooden': 3143, 'dirt‐filled': 3144, 'mentally': 3145, 'layers': 3146, 'scalpel': 3147, 'discrimination': 3148, 'skeletal': 3149, 'split': 3150, 'marrow': 3151, 'examining': 3152, 'ask': 3153, 'ʺwhere': 3154, 'searching': 3155, 'effortʹ': 3156, 'insides': 3157, 'unfit': 3158, 'intestines': 3159, 'sucked': 3160, 'second': 3161, 'feed': 3162, 'jackals': 3163, 'stolen': 3164, 'unsympathetic': 3165, 'dogs': 3166, 'clothing': 3167, 'paid': 3168, 'conceive': 3169, 'smiling': 3170, 'frown': 3171, 'counsel': 3172, 'desist': 3173, 'inconsiderately': 3174, 'chairs': 3175, 'violently': 3176, 'opening': 3177, 'doors': 3178, 'stork': 3179, 'cat': 3180, 'gratefully': 3181, 'unsought‐after': 3182, 'advise': 3183, 'pupil': 3184, 'ʺwell': 3185, 'discreetly': 3186, 'repeat': 3187, 'recount': 3188, 'bought': 3189, 'money': 3190, 'losses': 3191, 'disliking': 3192, 'relevant': 3193, 'tones': 3194, 'depending': 3195, 'morality': 3196, 'principally': 3197, 'conisder': 3198, 'most': 3199, 'far‐seeing': 3200, 'merciful': 3201, 'allowed': 3202, 'divide': 3203, 'robes': 3204, 'unaccompanied': 3205, 'profound': 3206, 'dharmas': 3207, 'communicate': 3208, 'vessel': 3209, 'mislead': 3210, 'spit': 3211, 'urinate': 3212, 'rub': 3213, 'vehicles': 3214, 'beds': 3215, 'room': 3216, 'inquired': 3217, 'disliked': 3218, 'finger': 3219, 'indicate': 3220, 'fingers': 3221, 'wildly': 3222, 'wave': 3223, 'gestures': 3224, 'snap': 3225, 'fingers‐': 3226, 'direction': 3227, 'decision': 3228, 'varieties': 3229, 'mentioned': 3230, 'trains': 3231, 'heaps': 3232, 'skilled': 3233, 'non‐meritorious': 3234, 'indirectly': 3235, 'dedicate': 3236, 'practitioner': 3237, 'biography': 3238, 'shrisambhava': 3239, 'begin': 3240, 'akashagarba': 3241, 'condensed': 3242, 'titles': 3243, 'composed': 3244, 'nagarjuna': 3245, 'defining': 3246, 'characteristic': 3247, 'texts': 3248, 'unsettled': 3249, 'creates': 3250, 'assiduously': 3251, 'hereafter': 3252, 'prevention': 3253, 'increases': 3254, 'function': 3255, 'opposite': 3256, 'renunciation': 3257, 'ascetics': 3258, 'karnapa': 3259, 'courage': 3260, 'whatsoever': 3261, 'easier': 3262, 'acquainted': 3263, 'learn': 3264, 'trifling': 3265, 'bites': 3266, 'minor': 3267, 'rashes': 3268, 'impatient': 3269, 'beatings': 3270, 'especially': 3271, 'faint': 3272, 'unconscious': 3273, 'reactions': 3274, 'undefiled': 3275, 'waged': 3276, 'disregarded': 3277, 'slay': 3278, 'shunned': 3279, 'sources': 3280, 'jaundice': 3281, 'sicknesses': 3282, 'forcibly': 3283, 'resistance': 3284, 'govern': 3285, 'assemble': 3286, 'product': 3287, 'primal': 3288, 'imputed': 3289, 'purposefully': 3290, 'non‐existent': 3291, 'permanently': 3292, 'unchanging': 3293, 'acted': 3294, 'causally': 3295, 'governs': 3296, 'phenomena': 3297, 'apparitions': 3298, 'restrainʹwhat': 3299, 'inappropriate—': 3300, 'conventionally': 3301, 'maintain': 3302, 'restraining': 3303, 'steam': 3304, 'choice': 3305, 'andʺ': 3306, 'deprive': 3307, 'unmeritorious': 3308, 'leaping': 3309, 'cliffs': 3310, 'unhealthy': 3311, 'influence': 3312, 'treasured': 3313, 'selves': 3314, 'expected': 3315, 'reliable': 3316, 'allowing': 3317, 'smoke': 3318, 'yielder': 3319, 'secondary': 3320, 'returned': 3321, 'abscess': 3322, 'razor‐sharp': 3323, 'instigated': 3324, 'me—': 3325, 'devour': 3326, 'gain—': 3327, 'gains': 3328, 'unmoved': 3329, 'awoken': 3330, 'empty‐handed': 3331, 'enable': 3332, 'good—': 3333, 'account': 3334, 'needed': 3335, 'degenerate': 3336, 'weaken': 3337, 'beingsʹ': 3338, 'resent': 3339, 'straw': 3340, 'condemned': 3341, 'released': 3342, 'spared': 3343, 'burnings': 3344, 'accrue': 3345, 'yours': 3346, 'prohibited': 3347, 'precept': 3348, 'assembling': 3349, 'adversely': 3350, 'worshipped': 3351, 'receiving': 3352, 'mundane': 3353, 'wouldnʹt': 3354, 'benefactorʹs': 3355, 'unbearably': 3356, 'sharp': 3357, 'caught': 3358, 'cauldrons': 3359, 'provide': 3360, 'value': 3361, 'gambling': 3362, 'died': 3363, 'sandcastles': 3364, 'collapse': 3365, 'howl': 3366, 'bestower': 3367, 'part': 3368, 'praisedʺ': 3369, 'invalid': 3370, 'undermine': 3371, 'bestowing': 3372, 'blessing': 3373, 'failings': 3374, 'preventing': 3375, 'practising': 3376, 'prevents': 3377, 'beggar': 3378, 'ordination': 3379, 'ordained': 3380, 'beggars': 3381, 'appearing': 3382, 'behalf': 3383, 'assists': 3384, 'intends': 3385, 'harm—': 3386, 'strove': 3387, 'acceptance': 3388, 'hateful': 3389, 'buddha‐field': 3390, 'establishing': 3391, 'insufficient': 3392, 'unique': 3393, 'assemblage': 3394, 'correct': 3395, 'immeasurable': 3396, 'delighted': 3397, 'displeased': 3398, 'harming': 3399, 'desirable': 3400, 'sense‐objects': 3401, 'kick': 3402, 'stamp': 3403, 'risk': 3404, 'retaliating': 3405, 'buddha‐nature': 3406, 'accomplishes': 3407, 'kingʹs': 3408, 'farsighted': 3409, 'underestimate': 3410, 'firey': 3411, 'displeasing': 3412, 'extensive': 3413, 'chakra': 3414, 'attraction': 3415, 'despising': 3416, 'pleasurable': 3417, 'idleness': 3418, 'enmeshed': 3419, 'systematically': 3420, 'slaughtering': 3421, 'species': 3422, 'soundly': 3423, 'behaves': 3424, 'buffalo': 3425, 'butcher': 3426, 'blocked': 3427, 'route': 3428, '—for': 3429, 'accumulate': 3430, 'faces': 3431, 'flowing': 3432, 'tears': 3433, 'red': 3434, 'swollen': 3435, 'clothe': 3436, 'virture': 3437, 'delirious': 3438, 'rolled': 3439, 'hot': 3440, 'sand': 3441, 'infantʹs': 3442, 'encountering': 3443, 'boiling': 3444, 'acids': 3445, 'forbearance': 3446, 'frivolous': 3447, 'amusements': 3448, 'indulging': 3449, 'entertaining': 3450, 'uttered': 3451, 'mosquitoes': 3452, 'bees': 3453, 'bodhisattvasʹ': 3454, 'recognise': 3455, 'legs—': 3456, 'discriminating': 3457, 'myriads': 3458, 'stabbed': 3459, 'flayed': 3460, 'alive': 3461, 'innumerable': 3462, 'limit': 3463, 'incision': 3464, 'physician': 3465, 'technique': 3466, 'remedies': 3467, 'encourages': 3468, 'regarding': 3469, 'hardship': 3470, 'afflicted': 3471, 'remained': 3472, 'upset': 3473, 'shravakas': 3474, 'mounted': 3475, 'discouragement': 3476, 'proceeds': 3477, 'lapse': 3478, 'steadfastness': 3479, 'contemplating': 3480, 'self‐control': 3481, 'required': 3482, 'squander': 3483, 'festivals': 3484, 'granted': 3485, 'motherʹs': 3486, 'deprivation': 3487, 'facet': 3488, 'ripening‐effects': 3489, 'presented': 3490, 'tokens': 3491, 'resut': 3492, 'spacious': 3493, 'radiance': 3494, 'nourished': 3495, 'spring': 3496, 'bodhisatttva': 3497, 'non‐virtue': 3498, 'ripped': 3499, 'henchmen': 3500, 'liquid': 3501, 'copper': 3502, 'melted': 3503, 'poured': 3504, 'flaming': 3505, 'tumble': 3506, 'fiercely': 3507, 'blazing': 3508, 'undertaken': 3509, 'vajradhvaja': 3510, 'started': 3511, 'habit': 3512, 'fruition': 3513, 'ability': 3514, 'unlike': 3515, 'crows': 3516, 'eagles': 3517, 'slightest': 3518, 'downfall': 3519, 'faint‐heartedness': 3520, 'deficiency': 3521, 'joke': 3522, 'lion‐like': 3523, 'succumb': 3524, 'whereas': 3525, 'sway': 3526, 'inflated': 3527, 'disrespected': 3528, 'tough': 3529, 'bloated': 3530, 'pathetic': 3531, 'seizes': 3532, 'conquers': 3533, 'wins': 3534, 'lion': 3535, 'turmoil': 3536, 'swayed': 3537, 'disturbances': 3538, 'strife': 3539, 'ever‐present': 3540, 'attracted': 3541, 'uncertain': 3542, 'sensual': 3543, 'razorʹs': 3544, 'edge': 3545, 'venture': 3546, 'midday': 3547, 'declines': 3548, 'battlefront': 3549, 'skillfully': 3550, 'dropped': 3551, 'retrieve': 3552, 'circulation': 3553, 'permeate': 3554, 'carrying': 3555, 'oil': 3556, 'threatened': 3557, 'spills': 3558, 'drop': 3559, 'lap': 3560, 'criticise': 3561, 'ʺlikewise': 3562, 'motivation': 3563, 'assign': 3564, 'undertaking': 3565, 'chapter': 3566, 'joyfully': 3567, 'blowing': 3568, 'fangs': 3569, 'discard': 3570, 'entirely': 3571, 'genuine': 3572, 'thousands': 3573, 'obscured': 3574, 'perishes': 3575, 'tortured': 3576, 'impermanent': 3577, 'unequal': 3578, 'listen': 3579, 'superiors': 3580, 'competitive': 3581, 'inferiors': 3582, 'derived': 3583, 'associating': 3584, 'belittling': 3585, 'discussing': 3586, 'encountered': 3587, 'courtesy': 3588, 'familiar': 3589, 'unfamiliar': 3590, 'nurturing': 3591, 'thousandfold': 3592, 'discarded': 3593, 'famous': 3594, 'accompany': 3595, 'despises': 3596, 'derive': 3597, 'back—': 3598, 'detachment': 3599, 'clung': 3600, 'begging': 3601, 'bowl': 3602, 'odd': 3603, 'wanted': 3604, 'dose': 3605, 'shared': 3606, 'obstacle‐making': 3607, 'pall‐bearers': 3608, 'befriending': 3609, 'mourners': 3610, 'mourning': 3611, 'difficulties': 3612, 'pacifying': 3613, 'flaying': 3614, 'requests': 3615, 'go‐betweens': 3616, 'notoriety': 3617, 'embrace': 3618, 'autonomous': 3619, 'identity': 3620, 'efforts': 3621, 'veil': 3622, 'raised': 3623, 'she': 3624, 'bashfully': 3625, 'disturbs': 3626, 'revealed': 3627, 'miser': 3628, 'devoured': 3629, 'meat': 3630, 'walking': 3631, 'impulses': 3632, 'uncovered': 3633, 'pillow': 3634, 'womanʹs': 3635, 'emit': 3636, 'negative': 3637, 'cages': 3638, 'tied': 3639, 'muscles': 3640, 'plastered': 3641, 'contain': 3642, 'enjoy—': 3643, 'copulation': 3644, 'beams': 3645, 'sunlight': 3646, 'cloud': 3647, 'cage': 3648, 'otherʹ': 3649, 'seeds': 3650, 'maggot': 3651, 'grossly': 3652, 'disparage': 3653, 'savoury': 3654, 'rice': 3655, 'vegetables': 3656, 'spat': 3657, 'obvious': 3658, 'rent': 3659, 'someoneʹs': 3660, 'anointed': 3661, 'otherʹs': 3662, 'foul': 3663, 'crave': 3664, 'naked': 3665, 'frightening': 3666, 'nails': 3667, 'yellowish': 3668, 'foul‐smelling': 3669, 'coated': 3670, 'polish': 3671, 'insanity': 3672, 'exertions': 3673, 'concerns': 3674, 'beheld': 3675, 'cemetery': 3676, 'graveyard': 3677, 'cities': 3678, 'rilled': 3679, 'female': 3680, 'sex': 3681, 'evening': 3682, 'spouses': 3683, 'attaining': 3684, 'aimlessly': 3685, 'winds': 3686, 'wives': 3687, 'deceived': 3688, 'impale': 3689, 'stab': 3690, 'themselves—such': 3691, 'apparent': 3692, 'collecting': 3693, 'fraught': 3694, 'problems': 3695, 'carriages': 3696, 'mouthfuls': 3697, 'disadvantages': 3698, 'pained': 3699, 'waste': 3700, 'leisures': 3701, 'endowments': 3702, 'trivial': 3703, 'exhausting': 3704, 'life—': 3705, 'ravines': 3706, 'stroll': 3707, 'disputes': 3708, 'flat': 3709, 'cooled': 3710, 'sandal‐scented': 3711, 'moonlight': 3712, 'fanned': 3713, 'breeze': 3714, 'choose': 3715, 'desireless': 3716, 'anyone—': 3717, 'sufferingʺ': 3718, 'reborn': 3719, 'it—': 3720, '—although': 3721, 'self—': 3722, 'costs': 3723, 'continuum': 3724, 'aggregation': 3725, 'rosary': 3726, 'inherent': 3727, 'hurts': 3728, 'shouldnʹt': 3729, 'personʹ': 3730, 'kind‐hearted': 3731, 'supusha‐chandra': 3732, 'accepted': 3733, 'attuned': 3734, 'goose': 3735, 'pool': 3736, 'ripening‐effect': 3737, 'basis': 3738, 'accustom': 3739, 'myself—': 3740, 'nervousness': 3741, 'revile': 3742, 'loiter': 3743, 'steel': 3744, 'property': 3745, 'undoubtedly': 3746, 'ghosts': 3747, 'selfless': 3748, 'esteem': 3749, 'shifted': 3750, 'purposes': 3751, 'servitude': 3752, 'lordliness': 3753, 'exchange': 3754, 'world—': 3755, 'needs': 3756, 'rejecting': 3757, 'method': 3758, 'establishes': 3759, 'foreseeable': 3760, 'unforeseeable': 3761, 'inflicting': 3762, 'allay': 3763, 'disposal': 3764, 'contrary': 3765, 'main': 3766, 'competitiveness': 3767, 'importance': 3768, 'concepts': 3769, 'ʺhe': 3770, 'comfortably': 3771, 'renowned': 3772, 'ʺthe': 3773, 'deteriorated': 3774, 'morals': 3775, 'views': 3776, 'willingly': 3777, 'ʺwith': 3778, 'poisonous': 3779, 'externally': 3780, 'ʺin': 3781, 'verbal': 3782, 'ʺby': 3783, 'ʺalso': 3784, 'laughing': 3785, 'stock': 3786, 'derision': 3787, 'ʺit': 3788, 'class': 3789, 'ʺthus': 3790, 'well‐known': 3791, 'tingling‐sensation': 3792, 'ʺeven': 3793, 'iʹll': 3794, 'ʺhis': 3795, 'cycle': 3796, 'succeeded': 3797, 'achieving': 3798, 'infallible': 3799, 'magnificence': 3800, 'sad': 3801, 'othersʺ': 3802, 'ʺwhy': 3803, 'admit': 3804, 'describing': 3805, 'outshine': 3806, 'lowest': 3807, 'fault‐ridden': 3808, 'dominating': 3809, 'aggressive': 3810, 'self‐righteous': 3811, 'married': 3812, 'bride': 3813, 'bashful': 3814, 'self‐cherishing': 3815, 'code': 3816, 'advised': 3817, 'misfortunes': 3818, 'sold': 3819, 'discouraged': 3820, 'shall‐offer': 3821, 'unconscientious': 3822, 'deliver': 3823, 'dealt': 3824, 'grudges': 3825, 'extreme': 3826, 'helplessness': 3827, 'dissatisfied': 3828, 'exhaustion': 3829, 'unknown': 3830, 'create': 3831, 'propelled': 3832, 'clod': 3833, 'honouring': 3834, 'serving': 3835, 'eaten': 3836, 'things‐': 3837, 'derided': 3838, 'are‐': 3839, 'friends—': 3840, 'recalled': 3841, 'concerning': 3842, 'dullness': 3843, 'obscurations': 3844, 'dharmakāya': 3845, 'reverently': 3846, 'scriptures': 3847, 'prosody': 3848, 'wrote': 3849, 'strengthened': 3850, 'aims': 3851, 'sudden': 3852, 'glares': 3853, 'overwhelming': 3854, 'deeply': 3855, 'pondering': 3856, 'saw': 3857, 'quell': 3858, 'myriad': 3859, 'chained': 3860, 'humankind': 3861, 'alchemists': 3862, 'impure': 3863, 'marvelous': 3864, 'perils': 3865, 'recourse': 3866, 'practical': 3867, 'engagement': 3868, 'corresponding': 3869, 'setting': 3870, 'respectively': 3871, 'divides': 3872, 'streams': 3873, 'irreversible': 3874, 'intent': 3875, 'embraces': 3876, 'unremitting': 3877, 'inattention': 3878, 'vastness': 3879, 'tathāgata': 3880, 'sūtra': 3881, 'subāhu': 3882, 'reasoned': 3883, 'soothe': 3884, 'aching': 3885, 'bounds': 3886, 'generous': 3887, 'ṛiṣhis': 3888, 'brahmā': 3889, 'benevolence': 3890, 'dreams': 3891, 'another’s': 3892, 'jewellike': 3893, 'wondrous': 3894, 'dispelling': 3895, 'calculate': 3896, 'weal': 3897, 'ignorance—': 3898, 'matched': 3899, 'favor': 3900, 'deserving': 3901, 'unsolicited': 3902, 'donors': 3903, 'contempt': 3904, 'moment’s': 3905, 'feeds': 3906, 'moments': 3907, 'devoted': 3908, 'trouble': 3909, 'born—to': 3910, 'confession': 3911, 'supremely': 3912, 'offspring': 3913, 'contains': 3914, 'refreshment': 3915, 'wrought': 3916, 'paradise': 3917, 'blossom': 3918, 'bowed': 3919, 'divine': 3920, 'crops': 3921, 'tiller’s': 3922, 'meres': 3923, 'voiced': 3924, 'cries': 3925, 'waterbirds': 3926, 'unclaimed': 3927, 'extending': 3928, 'margins': 3929, 'recipients': 3930, 'others’': 3931, 'undaunted': 3932, 'excellently': 3933, 'radiant': 3934, 'graceful': 3935, 'shimmering': 3936, 'hung': 3937, 'pearls—': 3938, 'abrim': 3939, 'frequent': 3940, 'strains': 3941, 'unexampled': 3942, 'towels': 3943, 'splendid': 3944, 'dyed': 3945, 'surpassing': 3946, 'supple': 3947, 'adornments': 3948, 'grace': 3949, 'lokeshvara': 3950, 'burnished': 3951, 'mandāravā': 3952, 'utpala': 3953, 'blossoms': 3954, 'worked': 3955, 'twined': 3956, 'lovely': 3957, 'swelling': 3958, 'frankincense': 3959, 'ambient': 3960, 'ravishes': 3961, 'rows': 3962, 'carpet': 3963, 'scattering': 3964, 'level': 3965, 'decked': 3966, 'beauteous': 3967, 'pendant': 3968, 'deck': 3969, 'amplitude': 3970, 'parasols': 3971, 'shafts': 3972, 'bordered': 3973, 'hems': 3974, 'upright': 3975, 'proportioned': 3976, 'ravishing': 3977, 'solaces': 3978, 'rains': 3979, 'airs': 3980, 'harmonies': 3981, 'tuneful': 3982, 'grains': 3983, 'transmit': 3984, 'sovereigns': 3985, 'press': 3986, 'blindly': 3987, '“deceived': 3988, 'overmastered': 3989, '“whatever': 3990, '“all': 3991, 'sinner': 3992, 'contrived': 3993, 'wanton': 3994, 'forsaking': 3995, 'fades': 3996, 'fading': 3997, 'passing': 3998, 'halting': 3999, 'drains': 4000, 'cutting': 4001, 'thread': 4002, 'heralds': 4003, 'deadly': 4004, 'defense': 4005, 'shrugged': 4006, 'heeding': 4007, 'hardly': 4008, 'guessed': 4009, 'this—': 4010, 'scaffold': 4011, 'tear': 4012, 'changed': 4013, 'brow': 4014, 'horrible': 4015, 'sink': 4016, 'despairing': 4017, 'forward': 4018, 'realized': 4019, 'anguish': 4020, 'avalokita': 4021, '“protect': 4022, 'evildoer': 4023, 'ākāshagarbha': 4024, 'kṣhitigarbha': 4025, 'vajrapaṇi': 4026, 'vengeful': 4027, 'yama’s': 4028, 'alarmed': 4029, 'implement': 4030, 'hundredfold': 4031, 'dwellers': 4032, 'exists': 4033, 'deaf': 4034, 'ears': 4035, 'contemptible': 4036, 'cliff': 4037, 'chasm': 4038, 'plunging': 4039, 'leagues': 4040, 'rash': 4041, 'lull': 4042, 'dissolution': 4043, 'seasons': 4044, 'what’s': 4045, 'teacher’s': 4046, 'disobeyed': 4047, 'kith': 4048, 'transgressions': 4049, 'fearing': 4050, 'ceaselessly': 4051, 'sinful': 4052, 'exulting': 4053, 'enjoyed': 4054, 'stores': 4055, 'realization': 4056, 'seeks': 4057, 'kindle': 4058, 'dharma’s': 4059, 'grope': 4060, 'beseeching': 4061, 'blindness': 4062, 'wholly': 4063, 'raining': 4064, 'marked': 4065, 'scarcity': 4066, 'plentiful': 4067, 'goods': 4068, 'count': 4069, 'surrendered': 4070, 'resigned': 4071, 'using': 4072, 'treat': 4073, 'toy': 4074, 'butt': 4075, 'mockery': 4076, 'slander': 4077, 'protectorless': 4078, 'raft': 4079, 'isle': 4080, 'miracles': 4081, 'assumed': 4082, 'line': 4083, 'heir': 4084, 'activities': 4085, 'befitting': 4086, 'rank': 4087, 'mar': 4088, 'compromise': 4089, 'faultless': 4090, 'lineage': 4091, '“for': 4092, '“this': 4093, 'slays': 4094, 'slaughterer': 4095, 'unfailing': 4096, 'sovereign': 4097, 'allays': 4098, 'maladies': 4099, 'relief': 4100, 'wearily': 4101, 'pathways': 4102, 'saves': 4103, 'soothes': 4104, 'creamy': 4105, 'that’s': 4106, 'churned': 4107, '“living': 4108, 'wayfarers': 4109, 'contentment': 4110, 'travelers': 4111, '“and': 4112, 'till': 4113, 'earthly': 4114, 'carefulness': 4115, 'begun': 4116, 'heed': 4117, 'properly': 4118, 'conceived': 4119, 'pledge': 4120, 'probed': 4121, 'procrastinate': 4122, 'promises': 4123, 'betrayed': 4124, 'intend': 4125, 'paltry': 4126, 'expect': 4127, 'nonetheless': 4128, 'karmic': 4129, 'failure': 4130, 'gravest': 4131, 'halts': 4132, 'wanders': 4133, 'endlessly': 4134, 'being’s': 4135, 'ruin': 4136, 'mixing': 4137, 'lived': 4138, 'failed': 4139, 'compass': 4140, 'aptitude': 4141, 'hale': 4142, 'unreliable': 4143, 'lent': 4144, 'regain': 4145, 'performing': 4146, 'destinies': 4147, 'declared': 4148, 'perchance': 4149, 'spend': 4150, 'stored': 4151, 'beginning—': 4152, 'reprieve': 4153, 'betray': 4154, 'stupidly': 4155, 'despondent': 4156, 'regret': 4157, 'wherein': 4158, 'consigned': 4159, 'benumbed': 4160, 'sorcery': 4161, 'total': 4162, 'mindlessness': 4163, 'dulls': 4164, 'wits': 4165, 'grip': 4166, 'limbless': 4167, 'bravery': 4168, 'cleverness': 4169, 'slavery': 4170, 'meekly': 4171, 'unresenting—': 4172, 'displaced': 4173, 'fiend': 4174, 'flings': 4175, 'headlong': 4176, 'afflictive': 4177, 'favors': 4178, 'aid': 4179, 'ancient': 4180, 'wellspring': 4181, 'growing': 4182, 'lodge': 4183, 'blithe': 4184, 'guards': 4185, 'infernal': 4186, 'lurk': 4187, 'aroused': 4188, 'fury': 4189, 'merest': 4190, 'scores': 4191, 'rivals': 4192, 'lines': 4193, 'thrust': 4194, 'refusing': 4195, 'regardless': 4196, 'fray': 4197, 'futile': 4198, 'wars': 4199, 'flaunted': 4200, 'prize': 4201, 'endeavor': 4202, 'dismayed': 4203, 'fishers': 4204, 'intending': 4205, 'pledged': 4206, 'region': 4207, 'stretching': 4208, 'madman’s': 4209, 'abandoning': 4210, 'consuming': 4211, 'rancor': 4212, 'wage': 4213, 'halt': 4214, 'spurned': 4215, 'retreat': 4216, 'base': 4217, 'lands': 4218, 'muster': 4219, 'stratagems': 4220, 'oh': 4221, 'indolent': 4222, 'somewhere': 4223, 'havoc': 4224, 'mirages': 4225, 'banish': 4226, 'needlessly': 4227, 'reflect': 4228, 'apply': 4229, 'invalids': 4230}\n",
            "4231\n"
          ],
          "name": "stdout"
        }
      ]
    },
    {
      "cell_type": "markdown",
      "metadata": {
        "id": "Bk1WaTG2BoOM",
        "colab_type": "text"
      },
      "source": [
        "creating the training data"
      ]
    },
    {
      "cell_type": "code",
      "metadata": {
        "id": "tjDWyQdueDky",
        "colab_type": "code",
        "colab": {}
      },
      "source": [
        "input_sequences = []\n",
        "for line in corpus:\n",
        "\ttoken_list = tokenizer.texts_to_sequences([line])[0] # \n",
        "\tfor i in range(0, len(token_list) - 5 , 1):\n",
        "\t\tsequence_slices = token_list[i:i+6] #sequences of length starting from 2 to end of sentence\n",
        "\t\tinput_sequences.append(sequence_slices)\n",
        "\n",
        "# pad sequences \n",
        "max_sequence_len = 6\n",
        "input_sequences = np.array(pad_sequences(input_sequences, maxlen=max_sequence_len, padding='pre')) #padding seuences apecifying the maximum length of sequence and the type of padding \n",
        "#pre padding starts padding 0s from start \n",
        "# create predictors and label\n",
        "xs, labels = input_sequences[:,:-1],input_sequences[:,-1] #xs are the input sequence without the last eement and last element for each sequence is its corresponding label\n"
      ],
      "execution_count": null,
      "outputs": []
    },
    {
      "cell_type": "code",
      "metadata": {
        "id": "4yOBsacGelDN",
        "colab_type": "code",
        "colab": {}
      },
      "source": [
        "import re\n",
        "import numpy as np\n",
        "def random_shuffle(x, y):\n",
        "    permutation = np.random.permutation(x.shape[0])\n",
        "    shuffled_x = x[permutation]\n",
        "    shuffled_y = y[permutation]\n",
        "    return shuffled_x, shuffled_y\n",
        " \n",
        "#to build a one hot encoded matrix of shape (# of seqs), (length of seq), (num of possible character    \n",
        "x_matrix = []\n",
        "for i in range(len(xs)):    \n",
        "    one_hot_chars = np.eye(total_words)[xs[i]]\n",
        "    x_matrix.append(one_hot_chars)\n",
        "x_matrix = np.array(x_matrix)\n",
        "\n",
        "# build the one hot encoded matrix of shape (# of seqs), (num of possible characters)\n",
        "y_matrix = np.eye(total_words)[labels]\n",
        "\n",
        "# shuffle the data\n",
        "x_matrix, y_matrix = random_shuffle(x_matrix, y_matrix)\n",
        "\n",
        "# Save the data to a numpy archive format\n",
        "np.savez(r'C:\\Users\\hp\\Desktop\\internship\\speech_recognition\\data.npz', x=x_matrix, y=y_matrix)"
      ],
      "execution_count": null,
      "outputs": []
    },
    {
      "cell_type": "markdown",
      "metadata": {
        "id": "Gkbp9oMYB5IC",
        "colab_type": "text"
      },
      "source": [
        "Model arcitecture \n",
        "build and train the model"
      ]
    },
    {
      "cell_type": "code",
      "metadata": {
        "id": "S2NNsRLMe6Ir",
        "colab_type": "code",
        "colab": {}
      },
      "source": [
        "import numpy as np\n",
        "from keras.models import Model\n",
        "from keras.layers.core import *\n",
        "from keras.layers import Input, Bidirectional, LSTM, Multiply\n",
        "\n",
        "def build_model():\n",
        "    x = Input((max_sequence_len-1, total_words))\n",
        "    \n",
        "    encoder = LSTM(400, return_sequences=True, recurrent_dropout=.35, dropout=.3)(x)\n",
        "    attention = Dense(1, activation='tanh')(encoder)\n",
        "    attention = Flatten()(attention)\n",
        "    attention = Activation('softmax')(attention)\n",
        "    attention = RepeatVector(400)(attention)\n",
        "    attention = Permute([2,1])(attention)\n",
        "    attention = Multiply()([encoder, attention])\n",
        "    \n",
        "    decoder = LSTM(400, recurrent_dropout=.35, dropout=.3)(attention)\n",
        "    y = Dense(total_words, activation='softmax')(decoder)\n",
        "    model = Model(inputs=x, outputs=y)\n",
        "    return model"
      ],
      "execution_count": null,
      "outputs": []
    },
    {
      "cell_type": "code",
      "metadata": {
        "id": "bCWjMy73tzwM",
        "colab_type": "code",
        "colab": {}
      },
      "source": [
        "key_list = list(word_index.keys()) \n",
        "val_list = list(word_index.values())"
      ],
      "execution_count": null,
      "outputs": []
    },
    {
      "cell_type": "code",
      "metadata": {
        "id": "NGmvYDu3fIOI",
        "colab_type": "code",
        "colab": {
          "base_uri": "https://localhost:8080/",
          "height": 1000
        },
        "outputId": "61f73230-5b10-46f1-a8be-4aaaaa72d6ae"
      },
      "source": [
        "from keras.optimizers import Adam\n",
        "from keras.metrics import categorical_accuracy\n",
        "from keras.callbacks import TensorBoard, ModelCheckpoint\n",
        "import numpy as np\n",
        "from keras.utils import plot_model\n",
        "\n",
        "\n",
        "BATCH_SIZE = 128\n",
        "EPOCHS = 200\n",
        "\n",
        "\n",
        "data = np.load(r'C:\\Users\\hp\\Desktop\\internship\\speech_recognition\\data.npz')\n",
        "x_seqs, y_chars = data['x'], data['y']\n",
        "assert x_seqs.shape[0] == y_chars.shape[0]\n",
        "\n",
        "model = build_model()\n",
        "model.compile(optimizer=Adam(.001), loss='categorical_crossentropy', metrics=[categorical_accuracy, 'acc'])\n",
        "model.summary()\n",
        "\n",
        "history = model.fit(x_seqs, y_chars, batch_size=BATCH_SIZE, epochs=EPOCHS, shuffle=True)"
      ],
      "execution_count": null,
      "outputs": [
        {
          "output_type": "stream",
          "text": [
            "WARNING:tensorflow:Layer lstm will not use cuDNN kernel since it doesn't meet the cuDNN kernel criteria. It will use generic GPU kernel as fallback when running on GPU\n",
            "WARNING:tensorflow:Layer lstm_1 will not use cuDNN kernel since it doesn't meet the cuDNN kernel criteria. It will use generic GPU kernel as fallback when running on GPU\n",
            "Model: \"functional_1\"\n",
            "__________________________________________________________________________________________________\n",
            "Layer (type)                    Output Shape         Param #     Connected to                     \n",
            "==================================================================================================\n",
            "input_1 (InputLayer)            [(None, 5, 4231)]    0                                            \n",
            "__________________________________________________________________________________________________\n",
            "lstm (LSTM)                     (None, 5, 400)       7411200     input_1[0][0]                    \n",
            "__________________________________________________________________________________________________\n",
            "dense (Dense)                   (None, 5, 1)         401         lstm[0][0]                       \n",
            "__________________________________________________________________________________________________\n",
            "flatten (Flatten)               (None, 5)            0           dense[0][0]                      \n",
            "__________________________________________________________________________________________________\n",
            "activation (Activation)         (None, 5)            0           flatten[0][0]                    \n",
            "__________________________________________________________________________________________________\n",
            "repeat_vector (RepeatVector)    (None, 400, 5)       0           activation[0][0]                 \n",
            "__________________________________________________________________________________________________\n",
            "permute (Permute)               (None, 5, 400)       0           repeat_vector[0][0]              \n",
            "__________________________________________________________________________________________________\n",
            "multiply (Multiply)             (None, 5, 400)       0           lstm[0][0]                       \n",
            "                                                                 permute[0][0]                    \n",
            "__________________________________________________________________________________________________\n",
            "lstm_1 (LSTM)                   (None, 400)          1281600     multiply[0][0]                   \n",
            "__________________________________________________________________________________________________\n",
            "dense_1 (Dense)                 (None, 4231)         1696631     lstm_1[0][0]                     \n",
            "==================================================================================================\n",
            "Total params: 10,389,832\n",
            "Trainable params: 10,389,832\n",
            "Non-trainable params: 0\n",
            "__________________________________________________________________________________________________\n",
            "Epoch 1/200\n",
            "160/160 [==============================] - 17s 107ms/step - loss: 6.8460 - categorical_accuracy: 0.0486 - acc: 0.0486\n",
            "Epoch 2/200\n",
            "160/160 [==============================] - 17s 105ms/step - loss: 6.4115 - categorical_accuracy: 0.0520 - acc: 0.0520\n",
            "Epoch 3/200\n",
            "160/160 [==============================] - 17s 107ms/step - loss: 6.3468 - categorical_accuracy: 0.0524 - acc: 0.0524\n",
            "Epoch 4/200\n",
            "160/160 [==============================] - 17s 106ms/step - loss: 6.2602 - categorical_accuracy: 0.0654 - acc: 0.0654\n",
            "Epoch 5/200\n",
            "160/160 [==============================] - 17s 106ms/step - loss: 6.1272 - categorical_accuracy: 0.0743 - acc: 0.0743\n",
            "Epoch 6/200\n",
            "160/160 [==============================] - 17s 107ms/step - loss: 5.9875 - categorical_accuracy: 0.0802 - acc: 0.0802\n",
            "Epoch 7/200\n",
            "160/160 [==============================] - 17s 106ms/step - loss: 5.8759 - categorical_accuracy: 0.0843 - acc: 0.0843\n",
            "Epoch 8/200\n",
            "160/160 [==============================] - 17s 106ms/step - loss: 5.7657 - categorical_accuracy: 0.0877 - acc: 0.0877\n",
            "Epoch 9/200\n",
            "160/160 [==============================] - 17s 105ms/step - loss: 5.6693 - categorical_accuracy: 0.0934 - acc: 0.0934\n",
            "Epoch 10/200\n",
            "160/160 [==============================] - 17s 105ms/step - loss: 5.5769 - categorical_accuracy: 0.0956 - acc: 0.0956\n",
            "Epoch 11/200\n",
            "160/160 [==============================] - 17s 108ms/step - loss: 5.4782 - categorical_accuracy: 0.0998 - acc: 0.0998\n",
            "Epoch 12/200\n",
            "160/160 [==============================] - 17s 106ms/step - loss: 5.3874 - categorical_accuracy: 0.1065 - acc: 0.1065\n",
            "Epoch 13/200\n",
            "160/160 [==============================] - 17s 106ms/step - loss: 5.2815 - categorical_accuracy: 0.1104 - acc: 0.1104\n",
            "Epoch 14/200\n",
            "160/160 [==============================] - 17s 106ms/step - loss: 5.2091 - categorical_accuracy: 0.1136 - acc: 0.1136\n",
            "Epoch 15/200\n",
            "160/160 [==============================] - 17s 104ms/step - loss: 5.1126 - categorical_accuracy: 0.1154 - acc: 0.1154\n",
            "Epoch 16/200\n",
            "160/160 [==============================] - 17s 105ms/step - loss: 5.0327 - categorical_accuracy: 0.1228 - acc: 0.1228\n",
            "Epoch 17/200\n",
            "160/160 [==============================] - 17s 107ms/step - loss: 4.9451 - categorical_accuracy: 0.1272 - acc: 0.1272\n",
            "Epoch 18/200\n",
            "160/160 [==============================] - 17s 105ms/step - loss: 4.8528 - categorical_accuracy: 0.1342 - acc: 0.1342\n",
            "Epoch 19/200\n",
            "160/160 [==============================] - 17s 105ms/step - loss: 4.7717 - categorical_accuracy: 0.1367 - acc: 0.1367\n",
            "Epoch 20/200\n",
            "160/160 [==============================] - 17s 106ms/step - loss: 4.6765 - categorical_accuracy: 0.1456 - acc: 0.1456\n",
            "Epoch 21/200\n",
            "160/160 [==============================] - 17s 105ms/step - loss: 4.5746 - categorical_accuracy: 0.1511 - acc: 0.1511\n",
            "Epoch 22/200\n",
            "160/160 [==============================] - 17s 104ms/step - loss: 4.4796 - categorical_accuracy: 0.1590 - acc: 0.1590\n",
            "Epoch 23/200\n",
            "160/160 [==============================] - 17s 107ms/step - loss: 4.3931 - categorical_accuracy: 0.1672 - acc: 0.1672\n",
            "Epoch 24/200\n",
            "160/160 [==============================] - 17s 105ms/step - loss: 4.3067 - categorical_accuracy: 0.1745 - acc: 0.1745\n",
            "Epoch 25/200\n",
            "160/160 [==============================] - 17s 105ms/step - loss: 4.2042 - categorical_accuracy: 0.1845 - acc: 0.1845\n",
            "Epoch 26/200\n",
            "160/160 [==============================] - 17s 106ms/step - loss: 4.1344 - categorical_accuracy: 0.1938 - acc: 0.1938\n",
            "Epoch 27/200\n",
            "160/160 [==============================] - 17s 105ms/step - loss: 4.0318 - categorical_accuracy: 0.2000 - acc: 0.2000\n",
            "Epoch 28/200\n",
            "160/160 [==============================] - 17s 105ms/step - loss: 3.9474 - categorical_accuracy: 0.2082 - acc: 0.2082\n",
            "Epoch 29/200\n",
            "160/160 [==============================] - 17s 106ms/step - loss: 3.8602 - categorical_accuracy: 0.2214 - acc: 0.2214\n",
            "Epoch 30/200\n",
            "160/160 [==============================] - 17s 107ms/step - loss: 3.7553 - categorical_accuracy: 0.2303 - acc: 0.2303\n",
            "Epoch 31/200\n",
            "160/160 [==============================] - 17s 104ms/step - loss: 3.6750 - categorical_accuracy: 0.2427 - acc: 0.2427\n",
            "Epoch 32/200\n",
            "160/160 [==============================] - 17s 108ms/step - loss: 3.5865 - categorical_accuracy: 0.2541 - acc: 0.2541\n",
            "Epoch 33/200\n",
            "160/160 [==============================] - 17s 106ms/step - loss: 3.4996 - categorical_accuracy: 0.2706 - acc: 0.2706\n",
            "Epoch 34/200\n",
            "160/160 [==============================] - 17s 105ms/step - loss: 3.4216 - categorical_accuracy: 0.2798 - acc: 0.2798\n",
            "Epoch 35/200\n",
            "160/160 [==============================] - 17s 108ms/step - loss: 3.3415 - categorical_accuracy: 0.2886 - acc: 0.2886\n",
            "Epoch 36/200\n",
            "160/160 [==============================] - 17s 105ms/step - loss: 3.2617 - categorical_accuracy: 0.3054 - acc: 0.3054\n",
            "Epoch 37/200\n",
            "160/160 [==============================] - 17s 104ms/step - loss: 3.1782 - categorical_accuracy: 0.3174 - acc: 0.3174\n",
            "Epoch 38/200\n",
            "160/160 [==============================] - 17s 109ms/step - loss: 3.1344 - categorical_accuracy: 0.3272 - acc: 0.3272\n",
            "Epoch 39/200\n",
            "160/160 [==============================] - 17s 104ms/step - loss: 3.0491 - categorical_accuracy: 0.3406 - acc: 0.3406\n",
            "Epoch 40/200\n",
            "160/160 [==============================] - 17s 105ms/step - loss: 2.9839 - categorical_accuracy: 0.3500 - acc: 0.3500\n",
            "Epoch 41/200\n",
            "160/160 [==============================] - 17s 109ms/step - loss: 2.8991 - categorical_accuracy: 0.3649 - acc: 0.3649\n",
            "Epoch 42/200\n",
            "160/160 [==============================] - 17s 106ms/step - loss: 2.8215 - categorical_accuracy: 0.3799 - acc: 0.3799\n",
            "Epoch 43/200\n",
            "160/160 [==============================] - 16s 103ms/step - loss: 2.7620 - categorical_accuracy: 0.3964 - acc: 0.3964\n",
            "Epoch 44/200\n",
            "160/160 [==============================] - 17s 108ms/step - loss: 2.6931 - categorical_accuracy: 0.4045 - acc: 0.4045\n",
            "Epoch 45/200\n",
            "160/160 [==============================] - 17s 105ms/step - loss: 2.6532 - categorical_accuracy: 0.4130 - acc: 0.4130\n",
            "Epoch 46/200\n",
            "160/160 [==============================] - 17s 105ms/step - loss: 2.5468 - categorical_accuracy: 0.4295 - acc: 0.4295\n",
            "Epoch 47/200\n",
            "160/160 [==============================] - 17s 109ms/step - loss: 2.4880 - categorical_accuracy: 0.4397 - acc: 0.4397\n",
            "Epoch 48/200\n",
            "160/160 [==============================] - 17s 107ms/step - loss: 2.4476 - categorical_accuracy: 0.4503 - acc: 0.4503\n",
            "Epoch 49/200\n",
            "160/160 [==============================] - 17s 105ms/step - loss: 2.3931 - categorical_accuracy: 0.4615 - acc: 0.4615\n",
            "Epoch 50/200\n",
            "160/160 [==============================] - 17s 108ms/step - loss: 2.3215 - categorical_accuracy: 0.4748 - acc: 0.4748\n",
            "Epoch 51/200\n",
            "160/160 [==============================] - 17s 106ms/step - loss: 2.2743 - categorical_accuracy: 0.4823 - acc: 0.4823\n",
            "Epoch 52/200\n",
            "160/160 [==============================] - 17s 105ms/step - loss: 2.1956 - categorical_accuracy: 0.4984 - acc: 0.4984\n",
            "Epoch 53/200\n",
            "160/160 [==============================] - 17s 109ms/step - loss: 2.1573 - categorical_accuracy: 0.5040 - acc: 0.5040\n",
            "Epoch 54/200\n",
            "160/160 [==============================] - 17s 107ms/step - loss: 2.1123 - categorical_accuracy: 0.5159 - acc: 0.5159\n",
            "Epoch 55/200\n",
            "160/160 [==============================] - 17s 105ms/step - loss: 2.0542 - categorical_accuracy: 0.5264 - acc: 0.5264\n",
            "Epoch 56/200\n",
            "160/160 [==============================] - 17s 109ms/step - loss: 2.0272 - categorical_accuracy: 0.5317 - acc: 0.5317\n",
            "Epoch 57/200\n",
            "160/160 [==============================] - 17s 106ms/step - loss: 1.9715 - categorical_accuracy: 0.5439 - acc: 0.5439\n",
            "Epoch 58/200\n",
            "160/160 [==============================] - 17s 107ms/step - loss: 1.9170 - categorical_accuracy: 0.5556 - acc: 0.5556\n",
            "Epoch 59/200\n",
            "160/160 [==============================] - 17s 108ms/step - loss: 1.8599 - categorical_accuracy: 0.5716 - acc: 0.5716\n",
            "Epoch 60/200\n",
            "160/160 [==============================] - 17s 109ms/step - loss: 1.8244 - categorical_accuracy: 0.5714 - acc: 0.5714\n",
            "Epoch 61/200\n",
            "160/160 [==============================] - 17s 106ms/step - loss: 1.7900 - categorical_accuracy: 0.5764 - acc: 0.5764\n",
            "Epoch 62/200\n",
            "160/160 [==============================] - 17s 108ms/step - loss: 1.7382 - categorical_accuracy: 0.5923 - acc: 0.5923\n",
            "Epoch 63/200\n",
            "160/160 [==============================] - 17s 107ms/step - loss: 1.7157 - categorical_accuracy: 0.5977 - acc: 0.5977\n",
            "Epoch 64/200\n",
            "160/160 [==============================] - 17s 106ms/step - loss: 1.6822 - categorical_accuracy: 0.6053 - acc: 0.6053\n",
            "Epoch 65/200\n",
            "160/160 [==============================] - 17s 106ms/step - loss: 1.6421 - categorical_accuracy: 0.6129 - acc: 0.6129\n",
            "Epoch 66/200\n",
            "160/160 [==============================] - 17s 109ms/step - loss: 1.6083 - categorical_accuracy: 0.6191 - acc: 0.6191\n",
            "Epoch 67/200\n",
            "160/160 [==============================] - 17s 106ms/step - loss: 1.5594 - categorical_accuracy: 0.6292 - acc: 0.6292\n",
            "Epoch 68/200\n",
            "160/160 [==============================] - 17s 105ms/step - loss: 1.5136 - categorical_accuracy: 0.6347 - acc: 0.6347\n",
            "Epoch 69/200\n",
            "160/160 [==============================] - 17s 108ms/step - loss: 1.4931 - categorical_accuracy: 0.6431 - acc: 0.6431\n",
            "Epoch 70/200\n",
            "160/160 [==============================] - 17s 104ms/step - loss: 1.4526 - categorical_accuracy: 0.6526 - acc: 0.6526\n",
            "Epoch 71/200\n",
            "160/160 [==============================] - 17s 105ms/step - loss: 1.4447 - categorical_accuracy: 0.6544 - acc: 0.6544\n",
            "Epoch 72/200\n",
            "160/160 [==============================] - 17s 108ms/step - loss: 1.4179 - categorical_accuracy: 0.6558 - acc: 0.6558\n",
            "Epoch 73/200\n",
            "160/160 [==============================] - 17s 105ms/step - loss: 1.3713 - categorical_accuracy: 0.6706 - acc: 0.6706\n",
            "Epoch 74/200\n",
            "160/160 [==============================] - 17s 106ms/step - loss: 1.3343 - categorical_accuracy: 0.6770 - acc: 0.6770\n",
            "Epoch 75/200\n",
            "160/160 [==============================] - 17s 106ms/step - loss: 1.3280 - categorical_accuracy: 0.6794 - acc: 0.6794\n",
            "Epoch 76/200\n",
            "160/160 [==============================] - 17s 105ms/step - loss: 1.2863 - categorical_accuracy: 0.6873 - acc: 0.6873\n",
            "Epoch 77/200\n",
            "160/160 [==============================] - 17s 106ms/step - loss: 1.2642 - categorical_accuracy: 0.6946 - acc: 0.6946\n",
            "Epoch 78/200\n",
            "160/160 [==============================] - 17s 108ms/step - loss: 1.2428 - categorical_accuracy: 0.6983 - acc: 0.6983\n",
            "Epoch 79/200\n",
            "160/160 [==============================] - 17s 106ms/step - loss: 1.2174 - categorical_accuracy: 0.7064 - acc: 0.7064\n",
            "Epoch 80/200\n",
            "160/160 [==============================] - 17s 106ms/step - loss: 1.1799 - categorical_accuracy: 0.7133 - acc: 0.7133\n",
            "Epoch 81/200\n",
            "160/160 [==============================] - 17s 108ms/step - loss: 1.1523 - categorical_accuracy: 0.7179 - acc: 0.7179\n",
            "Epoch 82/200\n",
            "160/160 [==============================] - 17s 106ms/step - loss: 1.1367 - categorical_accuracy: 0.7247 - acc: 0.7247\n",
            "Epoch 83/200\n",
            "160/160 [==============================] - 17s 105ms/step - loss: 1.0962 - categorical_accuracy: 0.7337 - acc: 0.7337\n",
            "Epoch 84/200\n",
            "160/160 [==============================] - 17s 109ms/step - loss: 1.0619 - categorical_accuracy: 0.7389 - acc: 0.7389\n",
            "Epoch 85/200\n",
            "160/160 [==============================] - 17s 106ms/step - loss: 1.0766 - categorical_accuracy: 0.7348 - acc: 0.7348\n",
            "Epoch 86/200\n",
            "160/160 [==============================] - 17s 106ms/step - loss: 1.0519 - categorical_accuracy: 0.7400 - acc: 0.7400\n",
            "Epoch 87/200\n",
            "160/160 [==============================] - 17s 107ms/step - loss: 1.0027 - categorical_accuracy: 0.7524 - acc: 0.7524\n",
            "Epoch 88/200\n",
            "160/160 [==============================] - 17s 107ms/step - loss: 1.0133 - categorical_accuracy: 0.7482 - acc: 0.7482\n",
            "Epoch 89/200\n",
            "160/160 [==============================] - 17s 107ms/step - loss: 0.9792 - categorical_accuracy: 0.7583 - acc: 0.7583\n",
            "Epoch 90/200\n",
            "160/160 [==============================] - 17s 108ms/step - loss: 0.9702 - categorical_accuracy: 0.7623 - acc: 0.7623\n",
            "Epoch 91/200\n",
            "160/160 [==============================] - 17s 108ms/step - loss: 0.9538 - categorical_accuracy: 0.7614 - acc: 0.7614\n",
            "Epoch 92/200\n",
            "160/160 [==============================] - 17s 106ms/step - loss: 0.9168 - categorical_accuracy: 0.7714 - acc: 0.7714\n",
            "Epoch 93/200\n",
            "160/160 [==============================] - 17s 107ms/step - loss: 0.9229 - categorical_accuracy: 0.7710 - acc: 0.7710\n",
            "Epoch 94/200\n",
            "160/160 [==============================] - 17s 107ms/step - loss: 0.9060 - categorical_accuracy: 0.7744 - acc: 0.7744\n",
            "Epoch 95/200\n",
            "160/160 [==============================] - 17s 106ms/step - loss: 0.8946 - categorical_accuracy: 0.7759 - acc: 0.7759\n",
            "Epoch 96/200\n",
            "160/160 [==============================] - 17s 106ms/step - loss: 0.8690 - categorical_accuracy: 0.7838 - acc: 0.7838\n",
            "Epoch 97/200\n",
            "160/160 [==============================] - 17s 109ms/step - loss: 0.8481 - categorical_accuracy: 0.7885 - acc: 0.7885\n",
            "Epoch 98/200\n",
            "160/160 [==============================] - 17s 106ms/step - loss: 0.8246 - categorical_accuracy: 0.7917 - acc: 0.7917\n",
            "Epoch 99/200\n",
            "160/160 [==============================] - 17s 106ms/step - loss: 0.8146 - categorical_accuracy: 0.7961 - acc: 0.7961\n",
            "Epoch 100/200\n",
            "160/160 [==============================] - 17s 107ms/step - loss: 0.8024 - categorical_accuracy: 0.7990 - acc: 0.7990\n",
            "Epoch 101/200\n",
            "160/160 [==============================] - 17s 106ms/step - loss: 0.7837 - categorical_accuracy: 0.8024 - acc: 0.8024\n",
            "Epoch 102/200\n",
            "160/160 [==============================] - 17s 105ms/step - loss: 0.7681 - categorical_accuracy: 0.8079 - acc: 0.8079\n",
            "Epoch 103/200\n",
            "160/160 [==============================] - 17s 107ms/step - loss: 0.7459 - categorical_accuracy: 0.8092 - acc: 0.8092\n",
            "Epoch 104/200\n",
            "160/160 [==============================] - 18s 110ms/step - loss: 0.7465 - categorical_accuracy: 0.8114 - acc: 0.8114\n",
            "Epoch 105/200\n",
            "160/160 [==============================] - 17s 104ms/step - loss: 0.7412 - categorical_accuracy: 0.8141 - acc: 0.8141\n",
            "Epoch 106/200\n",
            "160/160 [==============================] - 17s 109ms/step - loss: 0.7219 - categorical_accuracy: 0.8189 - acc: 0.8189\n",
            "Epoch 107/200\n",
            "160/160 [==============================] - 17s 106ms/step - loss: 0.7045 - categorical_accuracy: 0.8220 - acc: 0.8220\n",
            "Epoch 108/200\n",
            "160/160 [==============================] - 17s 103ms/step - loss: 0.6970 - categorical_accuracy: 0.8265 - acc: 0.8265\n",
            "Epoch 109/200\n",
            "160/160 [==============================] - 17s 106ms/step - loss: 0.6826 - categorical_accuracy: 0.8284 - acc: 0.8284\n",
            "Epoch 110/200\n",
            "160/160 [==============================] - 18s 110ms/step - loss: 0.6629 - categorical_accuracy: 0.8351 - acc: 0.8351\n",
            "Epoch 111/200\n",
            "160/160 [==============================] - 17s 103ms/step - loss: 0.6634 - categorical_accuracy: 0.8324 - acc: 0.8324\n",
            "Epoch 112/200\n",
            "160/160 [==============================] - 17s 108ms/step - loss: 0.6510 - categorical_accuracy: 0.8344 - acc: 0.8344\n",
            "Epoch 113/200\n",
            "160/160 [==============================] - 17s 107ms/step - loss: 0.6345 - categorical_accuracy: 0.8389 - acc: 0.8389\n",
            "Epoch 114/200\n",
            "160/160 [==============================] - 17s 103ms/step - loss: 0.6413 - categorical_accuracy: 0.8355 - acc: 0.8355\n",
            "Epoch 115/200\n",
            "160/160 [==============================] - 17s 105ms/step - loss: 0.6309 - categorical_accuracy: 0.8377 - acc: 0.8377\n",
            "Epoch 116/200\n",
            "160/160 [==============================] - 17s 108ms/step - loss: 0.6137 - categorical_accuracy: 0.8428 - acc: 0.8428\n",
            "Epoch 117/200\n",
            "160/160 [==============================] - 17s 105ms/step - loss: 0.5922 - categorical_accuracy: 0.8507 - acc: 0.8507\n",
            "Epoch 118/200\n",
            "160/160 [==============================] - 17s 105ms/step - loss: 0.5820 - categorical_accuracy: 0.8497 - acc: 0.8497\n",
            "Epoch 119/200\n",
            "160/160 [==============================] - 17s 107ms/step - loss: 0.5846 - categorical_accuracy: 0.8519 - acc: 0.8519\n",
            "Epoch 120/200\n",
            "160/160 [==============================] - 17s 104ms/step - loss: 0.5766 - categorical_accuracy: 0.8552 - acc: 0.8552\n",
            "Epoch 121/200\n",
            "160/160 [==============================] - 17s 105ms/step - loss: 0.5630 - categorical_accuracy: 0.8568 - acc: 0.8568\n",
            "Epoch 122/200\n",
            "160/160 [==============================] - 17s 104ms/step - loss: 0.5509 - categorical_accuracy: 0.8589 - acc: 0.8589\n",
            "Epoch 123/200\n",
            "160/160 [==============================] - 17s 107ms/step - loss: 0.5546 - categorical_accuracy: 0.8573 - acc: 0.8573\n",
            "Epoch 124/200\n",
            "160/160 [==============================] - 17s 105ms/step - loss: 0.5347 - categorical_accuracy: 0.8640 - acc: 0.8640\n",
            "Epoch 125/200\n",
            "160/160 [==============================] - 17s 104ms/step - loss: 0.5293 - categorical_accuracy: 0.8649 - acc: 0.8649\n",
            "Epoch 126/200\n",
            "160/160 [==============================] - 17s 105ms/step - loss: 0.5253 - categorical_accuracy: 0.8667 - acc: 0.8667\n",
            "Epoch 127/200\n",
            "160/160 [==============================] - 16s 99ms/step - loss: 0.5077 - categorical_accuracy: 0.8713 - acc: 0.8713\n",
            "Epoch 128/200\n",
            "160/160 [==============================] - 17s 103ms/step - loss: 0.5023 - categorical_accuracy: 0.8703 - acc: 0.8703\n",
            "Epoch 129/200\n",
            "160/160 [==============================] - 16s 102ms/step - loss: 0.4954 - categorical_accuracy: 0.8711 - acc: 0.8711\n",
            "Epoch 130/200\n",
            "160/160 [==============================] - 17s 105ms/step - loss: 0.4940 - categorical_accuracy: 0.8739 - acc: 0.8739\n",
            "Epoch 131/200\n",
            "160/160 [==============================] - 18s 110ms/step - loss: 0.4819 - categorical_accuracy: 0.8754 - acc: 0.8754\n",
            "Epoch 132/200\n",
            "160/160 [==============================] - 17s 104ms/step - loss: 0.4739 - categorical_accuracy: 0.8782 - acc: 0.8782\n",
            "Epoch 133/200\n",
            "160/160 [==============================] - 17s 105ms/step - loss: 0.4777 - categorical_accuracy: 0.8779 - acc: 0.8779\n",
            "Epoch 134/200\n",
            "160/160 [==============================] - 16s 102ms/step - loss: 0.4631 - categorical_accuracy: 0.8822 - acc: 0.8822\n",
            "Epoch 135/200\n",
            "160/160 [==============================] - 16s 101ms/step - loss: 0.4619 - categorical_accuracy: 0.8810 - acc: 0.8810\n",
            "Epoch 136/200\n",
            "160/160 [==============================] - 17s 103ms/step - loss: 0.4533 - categorical_accuracy: 0.8823 - acc: 0.8823\n",
            "Epoch 137/200\n",
            "160/160 [==============================] - 17s 104ms/step - loss: 0.4446 - categorical_accuracy: 0.8862 - acc: 0.8862\n",
            "Epoch 138/200\n",
            "160/160 [==============================] - 17s 106ms/step - loss: 0.4539 - categorical_accuracy: 0.8843 - acc: 0.8843\n",
            "Epoch 139/200\n",
            "160/160 [==============================] - 17s 105ms/step - loss: 0.4444 - categorical_accuracy: 0.8856 - acc: 0.8856\n",
            "Epoch 140/200\n",
            "160/160 [==============================] - 17s 104ms/step - loss: 0.4183 - categorical_accuracy: 0.8924 - acc: 0.8924\n",
            "Epoch 141/200\n",
            "160/160 [==============================] - 17s 105ms/step - loss: 0.4190 - categorical_accuracy: 0.8913 - acc: 0.8913\n",
            "Epoch 142/200\n",
            "160/160 [==============================] - 16s 99ms/step - loss: 0.4258 - categorical_accuracy: 0.8899 - acc: 0.8899\n",
            "Epoch 143/200\n",
            "160/160 [==============================] - 16s 100ms/step - loss: 0.4298 - categorical_accuracy: 0.8906 - acc: 0.8906\n",
            "Epoch 144/200\n",
            "160/160 [==============================] - 16s 102ms/step - loss: 0.4204 - categorical_accuracy: 0.8889 - acc: 0.8889\n",
            "Epoch 145/200\n",
            "160/160 [==============================] - 17s 104ms/step - loss: 0.4145 - categorical_accuracy: 0.8940 - acc: 0.8940\n",
            "Epoch 146/200\n",
            "160/160 [==============================] - 17s 106ms/step - loss: 0.3946 - categorical_accuracy: 0.8988 - acc: 0.8988\n",
            "Epoch 147/200\n",
            "160/160 [==============================] - 17s 106ms/step - loss: 0.3844 - categorical_accuracy: 0.9001 - acc: 0.9001\n",
            "Epoch 148/200\n",
            "160/160 [==============================] - 17s 104ms/step - loss: 0.3749 - categorical_accuracy: 0.9026 - acc: 0.9026\n",
            "Epoch 149/200\n",
            "160/160 [==============================] - 17s 105ms/step - loss: 0.3798 - categorical_accuracy: 0.9006 - acc: 0.9006\n",
            "Epoch 150/200\n",
            "160/160 [==============================] - 16s 101ms/step - loss: 0.3760 - categorical_accuracy: 0.9021 - acc: 0.9021\n",
            "Epoch 151/200\n",
            "160/160 [==============================] - 16s 100ms/step - loss: 0.3836 - categorical_accuracy: 0.9013 - acc: 0.9013\n",
            "Epoch 152/200\n",
            "160/160 [==============================] - 17s 105ms/step - loss: 0.3809 - categorical_accuracy: 0.9009 - acc: 0.9009\n",
            "Epoch 153/200\n",
            "160/160 [==============================] - 16s 103ms/step - loss: 0.3624 - categorical_accuracy: 0.9043 - acc: 0.9043\n",
            "Epoch 154/200\n",
            "160/160 [==============================] - 17s 106ms/step - loss: 0.3653 - categorical_accuracy: 0.9035 - acc: 0.9035\n",
            "Epoch 155/200\n",
            "160/160 [==============================] - 18s 110ms/step - loss: 0.3658 - categorical_accuracy: 0.9050 - acc: 0.9050\n",
            "Epoch 156/200\n",
            "160/160 [==============================] - 17s 103ms/step - loss: 0.3514 - categorical_accuracy: 0.9103 - acc: 0.9103\n",
            "Epoch 157/200\n",
            "160/160 [==============================] - 17s 108ms/step - loss: 0.3634 - categorical_accuracy: 0.9073 - acc: 0.9073\n",
            "Epoch 158/200\n",
            "160/160 [==============================] - 17s 105ms/step - loss: 0.3488 - categorical_accuracy: 0.9086 - acc: 0.9086\n",
            "Epoch 159/200\n",
            "160/160 [==============================] - 17s 103ms/step - loss: 0.3482 - categorical_accuracy: 0.9100 - acc: 0.9100\n",
            "Epoch 160/200\n",
            "160/160 [==============================] - 17s 105ms/step - loss: 0.3384 - categorical_accuracy: 0.9115 - acc: 0.9115\n",
            "Epoch 161/200\n",
            "160/160 [==============================] - 17s 108ms/step - loss: 0.3383 - categorical_accuracy: 0.9109 - acc: 0.9109\n",
            "Epoch 162/200\n",
            "160/160 [==============================] - 16s 102ms/step - loss: 0.3443 - categorical_accuracy: 0.9110 - acc: 0.9110\n",
            "Epoch 163/200\n",
            "160/160 [==============================] - 17s 108ms/step - loss: 0.3379 - categorical_accuracy: 0.9124 - acc: 0.9124\n",
            "Epoch 164/200\n",
            "160/160 [==============================] - 17s 104ms/step - loss: 0.3428 - categorical_accuracy: 0.9101 - acc: 0.9101\n",
            "Epoch 165/200\n",
            "160/160 [==============================] - 17s 103ms/step - loss: 0.3249 - categorical_accuracy: 0.9144 - acc: 0.9144\n",
            "Epoch 166/200\n",
            "160/160 [==============================] - 17s 105ms/step - loss: 0.3165 - categorical_accuracy: 0.9189 - acc: 0.9189\n",
            "Epoch 167/200\n",
            "160/160 [==============================] - 17s 109ms/step - loss: 0.3162 - categorical_accuracy: 0.9170 - acc: 0.9170\n",
            "Epoch 168/200\n",
            "160/160 [==============================] - 17s 103ms/step - loss: 0.3104 - categorical_accuracy: 0.9171 - acc: 0.9171\n",
            "Epoch 169/200\n",
            "160/160 [==============================] - 17s 105ms/step - loss: 0.3137 - categorical_accuracy: 0.9149 - acc: 0.9149\n",
            "Epoch 170/200\n",
            "160/160 [==============================] - 17s 104ms/step - loss: 0.3039 - categorical_accuracy: 0.9194 - acc: 0.9194\n",
            "Epoch 171/200\n",
            "160/160 [==============================] - 17s 103ms/step - loss: 0.3119 - categorical_accuracy: 0.9176 - acc: 0.9176\n",
            "Epoch 172/200\n",
            "160/160 [==============================] - 17s 105ms/step - loss: 0.3054 - categorical_accuracy: 0.9219 - acc: 0.9219\n",
            "Epoch 173/200\n",
            "160/160 [==============================] - 17s 105ms/step - loss: 0.3048 - categorical_accuracy: 0.9204 - acc: 0.9204\n",
            "Epoch 174/200\n",
            "160/160 [==============================] - 17s 105ms/step - loss: 0.3055 - categorical_accuracy: 0.9193 - acc: 0.9193\n",
            "Epoch 175/200\n",
            "160/160 [==============================] - 17s 104ms/step - loss: 0.2935 - categorical_accuracy: 0.9241 - acc: 0.9241\n",
            "Epoch 176/200\n",
            "160/160 [==============================] - 17s 108ms/step - loss: 0.2994 - categorical_accuracy: 0.9201 - acc: 0.9201\n",
            "Epoch 177/200\n",
            "160/160 [==============================] - 17s 104ms/step - loss: 0.2872 - categorical_accuracy: 0.9238 - acc: 0.9238\n",
            "Epoch 178/200\n",
            "160/160 [==============================] - 17s 105ms/step - loss: 0.2918 - categorical_accuracy: 0.9221 - acc: 0.9221\n",
            "Epoch 179/200\n",
            "160/160 [==============================] - 17s 106ms/step - loss: 0.2879 - categorical_accuracy: 0.9233 - acc: 0.9233\n",
            "Epoch 180/200\n",
            "160/160 [==============================] - 17s 105ms/step - loss: 0.2850 - categorical_accuracy: 0.9249 - acc: 0.9249\n",
            "Epoch 181/200\n",
            "160/160 [==============================] - 17s 106ms/step - loss: 0.2762 - categorical_accuracy: 0.9270 - acc: 0.9270\n",
            "Epoch 182/200\n",
            "160/160 [==============================] - 17s 106ms/step - loss: 0.2642 - categorical_accuracy: 0.9298 - acc: 0.9298\n",
            "Epoch 183/200\n",
            "160/160 [==============================] - 17s 104ms/step - loss: 0.2740 - categorical_accuracy: 0.9287 - acc: 0.9287\n",
            "Epoch 184/200\n",
            "160/160 [==============================] - 17s 105ms/step - loss: 0.2740 - categorical_accuracy: 0.9262 - acc: 0.9262\n",
            "Epoch 185/200\n",
            "160/160 [==============================] - 17s 108ms/step - loss: 0.2890 - categorical_accuracy: 0.9223 - acc: 0.9223\n",
            "Epoch 186/200\n",
            "160/160 [==============================] - 17s 105ms/step - loss: 0.2714 - categorical_accuracy: 0.9267 - acc: 0.9267\n",
            "Epoch 187/200\n",
            "160/160 [==============================] - 17s 106ms/step - loss: 0.2717 - categorical_accuracy: 0.9258 - acc: 0.9258\n",
            "Epoch 188/200\n",
            "160/160 [==============================] - 17s 105ms/step - loss: 0.2747 - categorical_accuracy: 0.9243 - acc: 0.9243\n",
            "Epoch 189/200\n",
            "160/160 [==============================] - 17s 104ms/step - loss: 0.2724 - categorical_accuracy: 0.9265 - acc: 0.9265\n",
            "Epoch 190/200\n",
            "160/160 [==============================] - 17s 104ms/step - loss: 0.2640 - categorical_accuracy: 0.9302 - acc: 0.9302\n",
            "Epoch 191/200\n",
            "160/160 [==============================] - 17s 107ms/step - loss: 0.2655 - categorical_accuracy: 0.9289 - acc: 0.9289\n",
            "Epoch 192/200\n",
            "160/160 [==============================] - 17s 104ms/step - loss: 0.2623 - categorical_accuracy: 0.9296 - acc: 0.9296\n",
            "Epoch 193/200\n",
            "160/160 [==============================] - 17s 106ms/step - loss: 0.2617 - categorical_accuracy: 0.9314 - acc: 0.9314\n",
            "Epoch 194/200\n",
            "160/160 [==============================] - 17s 105ms/step - loss: 0.2598 - categorical_accuracy: 0.9313 - acc: 0.9313\n",
            "Epoch 195/200\n",
            "160/160 [==============================] - 17s 104ms/step - loss: 0.2598 - categorical_accuracy: 0.9299 - acc: 0.9299\n",
            "Epoch 196/200\n",
            "160/160 [==============================] - 17s 104ms/step - loss: 0.2664 - categorical_accuracy: 0.9292 - acc: 0.9292\n",
            "Epoch 197/200\n",
            "160/160 [==============================] - 17s 107ms/step - loss: 0.2451 - categorical_accuracy: 0.9330 - acc: 0.9330\n",
            "Epoch 198/200\n",
            "160/160 [==============================] - 17s 106ms/step - loss: 0.2630 - categorical_accuracy: 0.9304 - acc: 0.9304\n",
            "Epoch 199/200\n",
            "160/160 [==============================] - 17s 104ms/step - loss: 0.2466 - categorical_accuracy: 0.9346 - acc: 0.9346\n",
            "Epoch 200/200\n",
            "160/160 [==============================] - 17s 107ms/step - loss: 0.2401 - categorical_accuracy: 0.9330 - acc: 0.9330\n"
          ],
          "name": "stdout"
        }
      ]
    },
    {
      "cell_type": "code",
      "metadata": {
        "id": "I5CTfHJuH34q",
        "colab_type": "code",
        "colab": {}
      },
      "source": [
        "#test string\n",
        "test_str = \"A good way to make sure you don’t miss anything important at a meeting is to record it so you can listen to it again later.\""
      ],
      "execution_count": 95,
      "outputs": []
    },
    {
      "cell_type": "code",
      "metadata": {
        "id": "BVjUnU4YLyWP",
        "colab_type": "code",
        "colab": {}
      },
      "source": [
        "import re\n",
        "test_str = re.sub(\"\\d+\", \"\", test_str) #to remove the digits/numbers from text"
      ],
      "execution_count": 126,
      "outputs": []
    },
    {
      "cell_type": "markdown",
      "metadata": {
        "id": "GUtDZqMVGPqa",
        "colab_type": "text"
      },
      "source": [
        "creating test sequences"
      ]
    },
    {
      "cell_type": "code",
      "metadata": {
        "id": "CI5SMy-sG4G1",
        "colab_type": "code",
        "colab": {}
      },
      "source": [
        "test_sequences = []\n",
        "\n",
        "token_list = tokenizer.texts_to_sequences([test_str])[0] # \n",
        "for i in range(len(token_list)-5):\n",
        "\t\tsequence_slices = token_list[i:i+5] #sequences of length 5\n",
        "\t\ttest_sequences.append(sequence_slices)\n"
      ],
      "execution_count": 127,
      "outputs": []
    },
    {
      "cell_type": "code",
      "metadata": {
        "id": "cUvm0RZMJDpl",
        "colab_type": "code",
        "colab": {}
      },
      "source": [
        "test_x_matrix = []\n",
        "for i in range(len(test_sequences)):\n",
        "    one_hot_chars = np.eye(total_words)[test_sequences[i]]\n",
        "    test_x_matrix.append(one_hot_chars)\n",
        "test_x_matrix = np.array(test_x_matrix)\n",
        "assert test_x_matrix.shape == (len(test_sequences), max_sequence_len-1, total_words), print(test_x_matrix.shape)"
      ],
      "execution_count": 128,
      "outputs": []
    },
    {
      "cell_type": "markdown",
      "metadata": {
        "id": "ogblAnI-gC3X",
        "colab_type": "text"
      },
      "source": [
        "Generating text for a given test string\n"
      ]
    },
    {
      "cell_type": "code",
      "metadata": {
        "id": "aHjjdUgbfF9G",
        "colab_type": "code",
        "colab": {}
      },
      "source": [
        "ccc = model.predict(test_x_matrix)"
      ],
      "execution_count": 129,
      "outputs": []
    },
    {
      "cell_type": "code",
      "metadata": {
        "id": "NiOIEpQzfPdd",
        "colab_type": "code",
        "colab": {
          "base_uri": "https://localhost:8080/",
          "height": 33
        },
        "outputId": "733f45bf-2d31-4b35-ff5e-3e386afadf16"
      },
      "source": [
        "strin = \"\"\n",
        "for i in range(len(ccc)):\n",
        "    ind = np.argmax(ccc[i])\n",
        "    strin += (key_list[val_list.index(ind)] + \" \")\n",
        "    \n",
        "print(strin)"
      ],
      "execution_count": 130,
      "outputs": [
        {
          "output_type": "stream",
          "text": [
            "himself who art with start death brahmana who start occur it give with little \n"
          ],
          "name": "stdout"
        }
      ]
    }
  ]
}